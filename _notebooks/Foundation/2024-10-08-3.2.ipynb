{
 "cells": [
  {
   "cell_type": "raw",
   "id": "9e9b5d9b",
   "metadata": {
    "vscode": {
     "languageId": "raw"
    }
   },
   "source": [
    "---\n",
    "layout: post\n",
    "title: Big Idea 3 Unit 2\n",
    "type: issues \n",
    "comments: true\n",
    "---"
   ]
  },
  {
   "cell_type": "code",
   "execution_count": null,
   "id": "53c90e29",
   "metadata": {},
   "outputs": [],
   "source": [
    "# Python Examples\n",
    "# Popcorn Hack in Python\n",
    "import json \n",
    "\n",
    "honda_civic = {\n",
    "    \"name\": \"Honda Civic\",\n",
    "    \"performance\": {\n",
    "        \"engine\": \"2.0-liter 4-cylinder\",\n",
    "        \"horsepower\": 158,\n",
    "        \"top_speed\": \"200 km/h\",\n",
    "        \"acceleration\": \"0 to 100 km/h in 8.2 seconds\",\n",
    "        \n",
    "    },\n",
    "    \"features\": {\n",
    "        \"driving_assistance\": \"Honda Sensing suite with adaptive cruise control and lane-keeping assist\",\n",
    "        \"exterior\": \"modern, aerodynamic design\",\n",
    "        \"interior\": \"spacious with durable cloth or optional leather seats\",\n",
    "    },\n",
    "    \"pricing\": {\n",
    "        \"original_price\": \"$24,000\",\n",
    "        \"production_run\": \"ongoing\",\n",
    "        \"rarity\": \"widely available\"\n",
    "    }\n",
    "}\n",
    "\n",
    "jsonstring = json.dumps(honda_civic) \n",
    "\n",
    "print(jsonstring)\n",
    "\n",
    "\n",
    "# Python Homework\n",
    "import requests # import requests library\n",
    "\n",
    "url = \"https://jsonplaceholder.typicode.com/posts\" \n",
    "response = requests.get(url) #make a get request to url\n",
    "\n",
    "if response.status_code == 200:\n",
    "    data = response.json()  # Convert the response to a JSON object\n",
    "    print(\"Original Data:\", data) # printing original data\n",
    "    \n",
    "    data[0][\"title\"] = \"yay\" #Modifying title of first post (String)\n",
    "    data[0][\"likes\"] = 0 # Adding likes field (Integer)\n",
    "    data[0][\"rating\"] = 3.5 # Adding likes field (float)\n",
    "    data[0][\"tags\"] = [\"fun\", \"more fun\", \"most fun\"] # Adding tags field (list)\n",
    "    data[0][\"is_active\"] = True # Adding activity field (Boolean)\n",
    "    \n",
    "    print(\"\\nModified Data for Post ID 1:\") # Printing modified data\n",
    "    print(data[0]) \n",
    "    \n",
    "else:\n",
    "    print(\"Failed to retrieve data\")"
   ]
  },
  {
   "cell_type": "code",
   "execution_count": null,
   "id": "3e72d837",
   "metadata": {
    "vscode": {
     "languageId": "javascript"
    }
   },
   "outputs": [],
   "source": [
    "// Javascript Examples\n",
    "// Popcorn Hack in JS\n",
    "let response1 = true;\n",
    "console.log(\"You have plans this weekend: \" + response1);\n",
    "// Output: You have plans this weekend: true\n",
    "\n",
    "let response2 = false; \n",
    "console.log(\"You finished all your homework already: \" + response2);\n",
    "// Output: You finished all your homework already: false\n",
    "\n",
    "// Homework in JS\n",
    "// Function to fetch and modify data\n",
    "async function fetchAndModifyData() {\n",
    "    const url = \"https://jsonplaceholder.typicode.com/posts\"; // URL for fetching data\n",
    "\n",
    "    try {\n",
    "        const response = await fetch(url); // Fetch data from the URL\n",
    "        if (response.ok) {\n",
    "            const data = await response.json(); // Convert response to JSON\n",
    "            console.log(\"Original Data:\", data); // Print original data\n",
    "\n",
    "            // Modifying the first post\n",
    "            data[0].title = \"My Weekend Plans\"; // Modifying title of first post (String)\n",
    "            data[0].likes = 42; // Adding likes field (Integer)\n",
    "            data[0].rating = 4.7; // Adding rating field (Float)\n",
    "            data[0].tags = [\"weekend\", \"plans\", \"relaxation\"]; // Adding tags field (Array)\n",
    "            data[0].is_active = true; // Adding is_active field (Boolean)\n",
    "\n",
    "            console.log(\"\\nModified Data for Post ID 1:\"); // Print modified data\n",
    "            console.log(data[0]); // Stop after logging modified data\n",
    "        } else {\n",
    "            console.error(\"Failed to retrieve data.\");\n",
    "        }\n",
    "    } catch (error) {\n",
    "        console.error(\"Error fetching data:\", error);\n",
    "    }\n",
    "}\n",
    "\n",
    "// Calling the function\n",
    "fetchAndModifyData();"
   ]
  }
 ],
 "metadata": {
  "kernelspec": {
   "display_name": "venv",
   "language": "python",
   "name": "python3"
  },
  "language_info": {
   "name": "python",
   "version": "3.10.12"
  }
 },
 "nbformat": 4,
 "nbformat_minor": 5
}
