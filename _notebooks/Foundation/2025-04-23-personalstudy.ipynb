{
 "cells": [
  {
   "cell_type": "raw",
   "metadata": {
    "vscode": {
     "languageId": "raw"
    }
   },
   "source": [
    "---\n",
    "layout: post\n",
    "title: Personal Study Blog\n",
    "description:  How I studied\n",
    "type: issues \n",
    "comments: true\n",
    "---"
   ]
  },
  {
   "cell_type": "markdown",
   "metadata": {},
   "source": [
    "## My Independent AP CSP Study Reflection\n",
    "\n",
    "To prepare for the AP Computer Science Principles Exam, I’ve been reviewing CollegeBoard’s multiple-choice questions and studying material shared by classmates, especially blog posts related to Big Ideas 3 and 5. My goal has been to make sure I fully understand each of the required skills and can apply them accurately when faced with different question types on the exam.\n",
    "\n",
    "---\n",
    "\n",
    "## Big Idea 5: Impact of Computing Innovations\n",
    "\n",
    "### Beneficial and Harmful Effects\n",
    "We studied how computing can bring about both positive and negative changes. For instance, social media can help people stay connected but may also affect mental health and spread misinformation. These examples showed how technology must be designed and used with care and consideration for its impact on users and society.\n",
    "\n",
    "### The Digital Divide\n",
    "We looked at how differences in internet access and digital tools affect communities differently. Some groups, especially in rural or low-income areas, face more barriers to education and work because they lack reliable access. This topic helped me understand why expanding digital access is a key issue in computing.\n",
    "\n",
    "### Bias in Computing\n",
    "We explored how algorithms can reflect unfair patterns if they are trained on biased data. This includes issues with facial recognition or hiring systems. We talked about ways to reduce bias, like using more balanced datasets and reviewing algorithms for fairness during development.\n",
    "\n",
    "### Crowdsourcing\n",
    "We discussed how people use the internet to work together on projects, like editing Wikipedia or contributing to open-source code. While this approach allows many voices to contribute, it also creates challenges in maintaining accuracy and quality.\n",
    "\n",
    "### Legal and Ethical Issues\n",
    "Our study included topics like copyright, data privacy, and how companies handle user information. We considered questions like whether users are fully informed when their data is collected. These conversations helped us think through the responsibilities that come with creating and managing technology.\n",
    "\n",
    "### Safe Computing Practices\n",
    "We reviewed ways to protect ourselves online, including strong passwords and multi-factor authentication. We also discussed common threats, like phishing and malware, and how to respond to them. These lessons helped reinforce the importance of acting responsibly in digital spaces.\n",
    "\n",
    "---\n",
    "\n",
    "## Big Idea 3: Algorithms and Programming\n",
    "\n",
    "### Binary Search\n",
    "We learned how binary search works by repeatedly dividing a sorted list to find a value. This method is faster than linear search for large datasets. Writing the code ourselves helped show how conditions and loops work in real situations.\n",
    "\n",
    "### Lists and Filtering\n",
    "We practiced building programs that use lists and filters to sort or search through data. This helped us understand how iteration and selection are used to solve real problems, such as organizing information or finding matches in a dataset.\n",
    "\n",
    "### Big-O Notation\n",
    "We studied how Big-O notation helps describe how an algorithm performs as the input size increases. We compared different kinds of algorithms—like constant, linear, and quadratic—to see which ones are more efficient, especially for large tasks.\n",
    "\n",
    "### Randomness in Programs\n",
    "We looked at how randomness can be used in computing, such as in games or simulations. These lessons showed how random values can be useful in creating variety or modeling uncertainty.\n",
    "\n",
    "### Simulations\n",
    "We saw how simulations allow us to test systems without real-world consequences, like predicting traffic patterns or climate change. We also talked about the importance of understanding the limits of a simulation based on its assumptions.\n",
    "\n",
    "### Undecidable Problems\n",
    "We explored problems that computers can’t fully solve, like the Halting Problem. These lessons helped us understand the limits of what computing can do and why not every question has a programmable solution.\n",
    "\n",
    "### Graphs and Heuristics\n",
    "Finally, we studied how graphs can represent relationships, such as in navigation apps. We also used heuristics, which are shortcuts or strategies to find solutions when exact methods are too complex. These tools are useful in many types of real-world problems.\n",
    "\n",
    "\n",
    "## Scores for MCQs\n",
    "\n",
    "### 2018 MCQ:\n",
    "![2018](https://github.com/user-attachments/assets/38a34a87-6048-4223-b54b-5f6d768b1cb0)\n",
    "\n",
    "### 2020 MCQ:\n",
    "![2020](https://github.com/user-attachments/assets/1895e79b-8b03-4428-8997-b37697b7445e)\n",
    "\n",
    "### 2021 MCQ:\n",
    "![2021](https://github.com/user-attachments/assets/b95d9095-299f-4d72-a19c-47fe2b246cb7)\n",
    "\n",
    "### How to Keep Studying\n",
    "To improve and continue studying effectively, I plan to review key concepts from each Big Idea using flashcards and targeted practice questions. I’ll regularly revisit MCQs from CollegeBoard and teach material to classmates for reinforcement. By rotating topics weekly and tracking progress, I’ll ensure steady growth. I’ll also practice simulations and algorithms to deepen my understanding of computational thinking and exam-ready problem solving."
   ]
  }
 ],
 "metadata": {
  "kernelspec": {
   "display_name": "venv",
   "language": "python",
   "name": "python3"
  },
  "language_info": {
   "name": "python",
   "version": "3.10.12"
  }
 },
 "nbformat": 4,
 "nbformat_minor": 2
}
