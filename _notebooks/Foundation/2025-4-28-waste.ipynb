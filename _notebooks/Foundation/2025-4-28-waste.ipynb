{
 "cells": [
  {
   "cell_type": "raw",
   "metadata": {
    "vscode": {
     "languageId": "raw"
    }
   },
   "source": [
    "---\n",
    "layout: post\n",
    "title: Waste Sorter\n",
    "description: AP CSP Project\n",
    "type: issues \n",
    "comments: true\n",
    "---"
   ]
  },
  {
   "cell_type": "code",
   "execution_count": 1,
   "metadata": {},
   "outputs": [
    {
     "name": "stdout",
     "output_type": "stream",
     "text": [
      "\n",
      "Correctly recognized items and their sorting:\n",
      " styrofoam ➔ Trash | chip bag ➔ Trash\n",
      "\n",
      "Unrecognized items: lego\n",
      "Number of unrecognized items: 1\n"
     ]
    }
   ],
   "source": [
    "def sort_waste(correct_items):\n",
    "    waste = []\n",
    "    for item in correct_items:\n",
    "        if item in ['plastic bottle', 'can', 'paper', 'cardboard']:\n",
    "            waste.append(item + \" ➔ Recycle\")\n",
    "        elif item in ['banana peel', 'apple core', 'coffee grounds']:\n",
    "            waste.append(item + \" ➔ Compost\")\n",
    "        elif item in ['chip bag', 'styrofoam', 'plastic straw']:\n",
    "            waste.append(item + \" ➔ Trash\")\n",
    "    return \" | \".join(waste)\n",
    "\n",
    "def check_input(user_input):\n",
    "    known_items = ['plastic bottle', 'can', 'paper', 'cardboard', \n",
    "                   'banana peel', 'apple core', 'coffee grounds',\n",
    "                   'chip bag', 'styrofoam', 'plastic straw']\n",
    "    \n",
    "    good_items = []\n",
    "    bad_items = []\n",
    "    \n",
    "    for item in user_input:\n",
    "        if item in known_items:\n",
    "            good_items.append(item)\n",
    "        else:\n",
    "            bad_items.append(item)\n",
    "    return good_items, bad_items\n",
    "\n",
    "if __name__ == \"__main__\":\n",
    "    # Prompt user\n",
    "    user_response = input(\"Enter items you are throwing away (separate with commas):\\n\")\n",
    "    \n",
    "    waste_input = [item.strip().lower() for item in user_response.split(',')]\n",
    "\n",
    "    # Check the input\n",
    "    good_items, bad_items = check_input(waste_input)\n",
    "\n",
    "    # Output results\n",
    "    if good_items:\n",
    "        print(\"\\nCorrectly recognized items and their sorting:\\n\", sort_waste(good_items))\n",
    "    if bad_items:\n",
    "        print('\\nUnrecognized items:', \", \".join(bad_items))\n",
    "        print('Number of unrecognized items:', len(bad_items))"
   ]
  }
 ],
 "metadata": {
  "kernelspec": {
   "display_name": "venv",
   "language": "python",
   "name": "python3"
  },
  "language_info": {
   "codemirror_mode": {
    "name": "ipython",
    "version": 3
   },
   "file_extension": ".py",
   "mimetype": "text/x-python",
   "name": "python",
   "nbconvert_exporter": "python",
   "pygments_lexer": "ipython3",
   "version": "3.10.12"
  }
 },
 "nbformat": 4,
 "nbformat_minor": 2
}
