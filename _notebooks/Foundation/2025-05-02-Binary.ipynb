{
 "cells": [
  {
   "cell_type": "markdown",
   "metadata": {
    "vscode": {
     "languageId": "raw"
    }
   },
   "source": [
    "---\n",
    "layout: post\n",
    "title: Binary HW\n",
    "description:  HW\n",
    "type: issues \n",
    "comments: true\n",
    "---"
   ]
  },
  {
   "cell_type": "code",
   "execution_count": null,
   "metadata": {},
   "outputs": [
    {
     "name": "stdout",
     "output_type": "stream",
     "text": [
      "🧮 Welcome to the Binary Calculator!\n",
      "You can perform the following operations:\n",
      "1 - Add two binary numbers\n",
      "2 - Subtract one binary number from another\n",
      "3 - Multiply two binary numbers\n",
      "4 - Divide one binary number by another\n",
      "5 - Convert a binary number to decimal\n",
      "6 - Convert a decimal number to binary (Extra Credit!)\n"
     ]
    },
    {
     "name": "stdout",
     "output_type": "stream",
     "text": [
      "\n",
      "--- Result ---\n",
      "Operation: Multiplication\n",
      "Input 1: 1010\n",
      "Input 2: 0111\n",
      "Output: 1000110\n",
      "---------------\n",
      "\n"
     ]
    }
   ],
   "source": [
    "\n",
    "def binary_add(a, b):\n",
    "    return bin(int(a, 2) + int(b, 2))[2:]\n",
    "\n",
    "def binary_subtract(a, b):\n",
    "    return bin(int(a, 2) - int(b, 2))[2:]\n",
    "\n",
    "def binary_multiply(a, b):\n",
    "    return bin(int(a, 2) * int(b, 2))[2:]\n",
    "\n",
    "def binary_divide(a, b):\n",
    "    if int(b, 2) == 0:\n",
    "        return \"Error: Division by zero\"\n",
    "    return bin(int(a, 2) // int(b, 2))[2:]\n",
    "\n",
    "def binary_to_decimal(b):\n",
    "    return int(b, 2)\n",
    "\n",
    "def decimal_to_binary(d):\n",
    "    try:\n",
    "        d = int(d)\n",
    "        return bin(d)[2:]\n",
    "    except ValueError:\n",
    "        return \"Error: Not a valid decimal number\"\n",
    "\n",
    "def print_result(operation, input1, input2, result):\n",
    "    print(\"\\n--- Result ---\")\n",
    "    print(f\"Operation: {operation}\")\n",
    "    print(f\"Input 1: {input1}\")\n",
    "    if input2 is not None:\n",
    "        print(f\"Input 2: {input2}\")\n",
    "    print(f\"Output: {result}\")\n",
    "    print(\"---------------\\n\")\n",
    "\n",
    "def calculator():\n",
    "    print(\"🧮 Welcome to the Binary Calculator!\")\n",
    "    print(\"You can perform the following operations:\")\n",
    "    print(\"1 - Add two binary numbers\")\n",
    "    print(\"2 - Subtract one binary number from another\")\n",
    "    print(\"3 - Multiply two binary numbers\")\n",
    "    print(\"4 - Divide one binary number by another\")\n",
    "    print(\"5 - Convert a binary number to decimal\")\n",
    "    print(\"6 - Convert a decimal number to binary (Extra Credit!)\")\n",
    "\n",
    "    choice = input(\"Enter choice (1-6): \")\n",
    "\n",
    "    if choice in {'1', '2', '3', '4'}:\n",
    "        a = input(\"Enter first binary number (e.g., 1010): \")\n",
    "        b = input(\"Enter second binary number (e.g., 0101): \")\n",
    "\n",
    "        if not all(c in '01' for c in a + b):\n",
    "            print(\"Invalid binary input. Please use only 0 and 1.\")\n",
    "            return\n",
    "\n",
    "        if choice == '1':\n",
    "            result = binary_add(a, b)\n",
    "            print_result(\"Addition\", a, b, result)\n",
    "        elif choice == '2':\n",
    "            result = binary_subtract(a, b)\n",
    "            print_result(\"Subtraction\", a, b, result)\n",
    "        elif choice == '3':\n",
    "            result = binary_multiply(a, b)\n",
    "            print_result(\"Multiplication\", a, b, result)\n",
    "        elif choice == '4':\n",
    "            result = binary_divide(a, b)\n",
    "            print_result(\"Division\", a, b, result)\n",
    "\n",
    "    elif choice == '5':\n",
    "        b = input(\"Enter binary number (e.g., 1101): \")\n",
    "        if not all(c in '01' for c in b):\n",
    "            print(\"Invalid binary input.\")\n",
    "        else:\n",
    "            result = binary_to_decimal(b)\n",
    "            print_result(\"Binary to Decimal\", b, None, result)\n",
    "\n",
    "    elif choice == '6':\n",
    "        d = input(\"Enter decimal number (e.g., 15): \")\n",
    "        result = decimal_to_binary(d)\n",
    "        print_result(\"Decimal to Binary\", d, None, result)\n",
    "\n",
    "    else:\n",
    "        print(\"Invalid choice. Please enter a number between 1 and 6.\")\n",
    "\n",
    "# Run the calculator\n",
    "calculator()\n"
   ]
  }
 ],
 "metadata": {
  "kernelspec": {
   "display_name": "venv",
   "language": "python",
   "name": "python3"
  },
  "language_info": {
   "codemirror_mode": {
    "name": "ipython",
    "version": 3
   },
   "file_extension": ".py",
   "mimetype": "text/x-python",
   "name": "python",
   "nbconvert_exporter": "python",
   "pygments_lexer": "ipython3",
   "version": "3.10.12"
  }
 },
 "nbformat": 4,
 "nbformat_minor": 2
}
