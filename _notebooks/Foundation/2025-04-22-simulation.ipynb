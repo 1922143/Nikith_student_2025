{
 "cells": [
  {
   "cell_type": "raw",
   "metadata": {
    "vscode": {
     "languageId": "raw"
    }
   },
   "source": [
    "---\n",
    "layout: post\n",
    "title: Simulation/Games\n",
    "description:  HW\n",
    "type: issues \n",
    "comments: true\n",
    "---"
   ]
  },
  {
   "cell_type": "code",
   "execution_count": 1,
   "metadata": {},
   "outputs": [
    {
     "name": "stdout",
     "output_type": "stream",
     "text": [
      "Basic Dice roll: 3\n",
      "\n",
      "Biased Dice Rolls:\n",
      "Dice roll: 6\n",
      "Dice roll: 6\n",
      "Dice roll: 6\n",
      "Dice roll: 4\n",
      "Dice roll: 2\n",
      "Dice roll: 6\n",
      "Dice roll: 1\n",
      "Dice roll: 6\n",
      "Dice roll: 6\n",
      "Dice roll: 6\n"
     ]
    }
   ],
   "source": [
    "import random\n",
    "\n",
    "def roll_dice():\n",
    "    return random.randint(1, 6)\n",
    "\n",
    "print(\"Basic Dice roll:\", roll_dice())\n",
    "\n",
    "def biased_dice_roll():\n",
    "    numbers = [1, 2, 3, 4, 5, 6]\n",
    "    probabilities = [0.1, 0.1, 0.1, 0.1, 0.1, 0.5]\n",
    "    return random.choices(numbers, probabilities)[0]\n",
    "\n",
    "print(\"\\nBiased Dice Rolls:\")\n",
    "for _ in range(10):\n",
    "    print(\"Dice roll:\", biased_dice_roll())\n"
   ]
  },
  {
   "cell_type": "code",
   "execution_count": null,
   "metadata": {},
   "outputs": [
    {
     "name": "stdout",
     "output_type": "stream",
     "text": [
      "Red\n",
      "Red\n",
      "Red\n",
      "Red\n",
      "Red\n",
      "Yellow\n",
      "Red\n",
      "Orange\n",
      "Red\n",
      "Red\n"
     ]
    }
   ],
   "source": [
    "import random\n",
    "\n",
    "def biased_color():\n",
    "    colors = [\"Red\", \"Blue\", \"Green\", \"Yellow\", \"Purple\", \"Orange\"]\n",
    "    probabilities = [0.5, 0.3, 0.05, 0.05, 0.05, 0.05]  \n",
    "    for _ in range(10):\n",
    "        print(random.choices(colors, probabilities)[0])\n",
    "\n",
    "biased_color()"
   ]
  },
  {
   "cell_type": "code",
   "execution_count": 4,
   "metadata": {},
   "outputs": [
    {
     "name": "stdout",
     "output_type": "stream",
     "text": [
      "Round 1: Player 1 - tails, Player 2 - tails\n",
      "Score: Player 1 = 0 heads, Player 2 = 0 heads\n",
      "\n",
      "Round 2: Player 1 - heads, Player 2 - tails\n",
      "Score: Player 1 = 1 heads, Player 2 = 0 heads\n",
      "\n",
      "Round 3: Player 1 - tails, Player 2 - heads\n",
      "Score: Player 1 = 1 heads, Player 2 = 1 heads\n",
      "\n",
      "Round 4: Player 1 - tails, Player 2 - tails\n",
      "Score: Player 1 = 1 heads, Player 2 = 1 heads\n",
      "\n",
      "Round 5: Player 1 - heads, Player 2 - tails\n",
      "Score: Player 1 = 2 heads, Player 2 = 1 heads\n",
      "\n",
      "Round 6: Player 1 - heads, Player 2 - tails\n",
      "Score: Player 1 = 3 heads, Player 2 = 1 heads\n",
      "\n",
      "Player 1 wins in 6 rounds!\n"
     ]
    }
   ],
   "source": [
    "import random\n",
    "\n",
    "def coin_game_to_3_heads():\n",
    "    player1_heads = 0\n",
    "    player2_heads = 0\n",
    "    rounds = 0\n",
    "\n",
    "    while player1_heads < 3 and player2_heads < 3:\n",
    "        rounds += 1\n",
    "        p1_flip = random.choice([\"heads\", \"tails\"])\n",
    "        p2_flip = random.choice([\"heads\", \"tails\"])\n",
    "\n",
    "        if p1_flip == \"heads\":\n",
    "            player1_heads += 1\n",
    "        if p2_flip == \"heads\":\n",
    "            player2_heads += 1\n",
    "\n",
    "        print(f\"Round {rounds}: Player 1 - {p1_flip}, Player 2 - {p2_flip}\")\n",
    "        print(f\"Score: Player 1 = {player1_heads} heads, Player 2 = {player2_heads} heads\\n\")\n",
    "\n",
    "    if player1_heads == 3:\n",
    "        print(f\"Player 1 wins in {rounds} rounds!\")\n",
    "    else:\n",
    "        print(f\"Player 2 wins in {rounds} rounds!\")\n",
    "\n",
    "coin_game_to_3_heads()"
   ]
  }
 ],
 "metadata": {
  "kernelspec": {
   "display_name": "venv",
   "language": "python",
   "name": "python3"
  },
  "language_info": {
   "codemirror_mode": {
    "name": "ipython",
    "version": 3
   },
   "file_extension": ".py",
   "mimetype": "text/x-python",
   "name": "python",
   "nbconvert_exporter": "python",
   "pygments_lexer": "ipython3",
   "version": "3.10.12"
  }
 },
 "nbformat": 4,
 "nbformat_minor": 2
}
