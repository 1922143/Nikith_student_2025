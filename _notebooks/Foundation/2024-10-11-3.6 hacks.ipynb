{
 "cells": [
  {
   "cell_type": "code",
   "execution_count": 1,
   "metadata": {},
   "outputs": [
    {
     "name": "stdout",
     "output_type": "stream",
     "text": [
      "Don't forget your umbrella!\n"
     ]
    }
   ],
   "source": [
    "weather_condition = \"rainy\"\n",
    "\n",
    "def take_umbrella():\n",
    "    print(\"Don't forget your umbrella!\")\n",
    "\n",
    "if weather_condition == \"rainy\":\n",
    "    take_umbrella()  # if rainy, take umbrella"
   ]
  },
  {
   "cell_type": "code",
   "execution_count": 2,
   "metadata": {},
   "outputs": [
    {
     "name": "stdout",
     "output_type": "stream",
     "text": [
      "The statements are equal!\n"
     ]
    }
   ],
   "source": [
    "statement1 = \"Hello, world!\"\n",
    "statement2 = \"Hello, world!\"\n",
    "\n",
    "def check_statements():\n",
    "    print(\"The statements are equal!\")\n",
    "\n",
    "if statement1 == statement2:\n",
    "    check_statements()  # Check to see if statements are equal"
   ]
  }
 ],
 "metadata": {
  "kernelspec": {
   "display_name": "venv",
   "language": "python",
   "name": "python3"
  },
  "language_info": {
   "codemirror_mode": {
    "name": "ipython",
    "version": 3
   },
   "file_extension": ".py",
   "mimetype": "text/x-python",
   "name": "python",
   "nbconvert_exporter": "python",
   "pygments_lexer": "ipython3",
   "version": "3.10.12"
  }
 },
 "nbformat": 4,
 "nbformat_minor": 2
}
