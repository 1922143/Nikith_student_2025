{
 "cells": [
  {
   "cell_type": "markdown",
   "id": "f7a1c0a8",
   "metadata": {},
   "source": [
    "---\n",
    "layout: post\n",
    "title: Big Idea 3 Unit 7\n",
    "type: issues \n",
    "comments: true\n",
    "---"
   ]
  },
  {
   "cell_type": "code",
   "execution_count": null,
   "id": "eff459df",
   "metadata": {},
   "outputs": [],
   "source": [
    "# nested conditional\n",
    "score = 85  # student's score\n",
    "\n",
    "if score < 60:\n",
    "    print(\"Failing\")\n",
    "elif 60 <= score < 75:\n",
    "    print(\"Passing\")\n",
    "else:\n",
    "    print(\"Excellent\")\n",
    "\n",
    "    # Additional nested conditions for excellent performance\n",
    "    if score >= 90:\n",
    "        print(\"You are in the Honor Roll!\")\n",
    "    elif score >= 85:\n",
    "        print(\"Great job, keep up the good work!\")\n",
    "    else:\n",
    "        print(\"Good performance, but there's room for improvement.\")"
   ]
  }
 ],
 "metadata": {
  "kernelspec": {
   "display_name": "venv",
   "language": "python",
   "name": "python3"
  },
  "language_info": {
   "name": "python",
   "version": "3.10.12"
  }
 },
 "nbformat": 4,
 "nbformat_minor": 5
}
