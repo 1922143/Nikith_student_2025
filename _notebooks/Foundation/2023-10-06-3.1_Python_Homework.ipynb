{
 "cells": [
  {
   "cell_type": "code",
   "execution_count": 11,
   "metadata": {},
   "outputs": [
    {
     "name": "stdout",
     "output_type": "stream",
     "text": [
      "Nikith\n",
      "16\n",
      "2.79\n"
     ]
    }
   ],
   "source": [
    "name = 'Nikith'\n",
    "print(name)\n",
    "\n",
    "age = '16'\n",
    "print(age)\n",
    "\n",
    "favorite_number = '2.79'\n",
    "print(favorite_number)"
   ]
  },
  {
   "cell_type": "code",
   "execution_count": 10,
   "metadata": {},
   "outputs": [
    {
     "name": "stdout",
     "output_type": "stream",
     "text": [
      "pizza\n",
      "videogames\n",
      "red\n"
     ]
    }
   ],
   "source": [
    "favorite_food = 'pizza' #snake_case\n",
    "FavoriteHobby = 'videogames' #PascalCase\n",
    "favoriteColor = 'red' #camelCase\n",
    "\n",
    "print(favorite_food)\n",
    "print(FavoriteHobby)\n",
    "print(favoriteColor)\n"
   ]
  },
  {
   "cell_type": "code",
   "execution_count": 9,
   "metadata": {},
   "outputs": [
    {
     "name": "stdout",
     "output_type": "stream",
     "text": [
      "Nikith\n",
      "16\n",
      "2.79\n"
     ]
    }
   ],
   "source": [
    "me = {                                     #Dictionary\n",
    "    'name': 'Nikith',\n",
    "    'age': '16',\n",
    "    'favorite_number': '2.79',\n",
    "}\n",
    "\n",
    "print(me['name']) #Outputs\n",
    "print(me['age'])\n",
    "print(me['favorite_number'])"
   ]
  },
  {
   "cell_type": "code",
   "execution_count": 8,
   "metadata": {},
   "outputs": [
    {
     "name": "stdout",
     "output_type": "stream",
     "text": [
      "['Nikith', 'red', '2.79']\n"
     ]
    }
   ],
   "source": [
    "about_me = ['Nikith', 'red', '2.79'] #list for name, fav color, and fav number\n",
    "print(about_me)"
   ]
  }
 ],
 "metadata": {
  "kernelspec": {
   "display_name": "venv",
   "language": "python",
   "name": "python3"
  },
  "language_info": {
   "codemirror_mode": {
    "name": "ipython",
    "version": 3
   },
   "file_extension": ".py",
   "mimetype": "text/x-python",
   "name": "python",
   "nbconvert_exporter": "python",
   "pygments_lexer": "ipython3",
   "version": "3.10.12"
  }
 },
 "nbformat": 4,
 "nbformat_minor": 2
}
