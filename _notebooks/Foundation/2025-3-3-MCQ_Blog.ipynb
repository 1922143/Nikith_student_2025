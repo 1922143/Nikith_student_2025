{
 "cells": [
  {
   "cell_type": "raw",
   "metadata": {
    "vscode": {
     "languageId": "raw"
    }
   },
   "source": [
    "---\n",
    "layout: post\n",
    "title: 2020 Practice MCQ Blog\n",
    "description: A reflection on my mcq\n",
    "type: issues \n",
    "comments: true\n",
    "---"
   ]
  },
  {
   "cell_type": "markdown",
   "metadata": {},
   "source": [
    "I got a 61/67 on the MCQ after spending around 3 hours, here is an analysis on what I got wrong:\n",
    "\n",
    "![Image](https://github.com/user-attachments/assets/8b2ab726-6b1a-48ca-b7d1-499552b6c58e)\n",
    "\n",
    "\n",
    "# Question 11\n",
    "\n",
    "![Image](https://github.com/user-attachments/assets/c2b94353-fa0c-498c-9bb1-68f9919d4c93)\n",
    "\n",
    "Answer: B\n",
    "\n",
    "\n",
    "# Question 45\n",
    "\n",
    "![Image](https://github.com/user-attachments/assets/29181858-0e86-405c-9b32-517c3ee9e363)\n",
    "\n",
    "Answer: D\n",
    "\n",
    "\n",
    "# Question 53\n",
    "\n",
    "![Image](https://github.com/user-attachments/assets/428e968e-a370-40ff-a4e3-d3a5ad7ffde6)\n",
    "\n",
    "Answer: C\n",
    "\n",
    "\n",
    "# Question 54\n",
    "\n",
    "![Image](https://github.com/user-attachments/assets/36c429de-12d0-4511-9594-088e4a566e6b)\n",
    "\n",
    "Answer: C\n",
    "\n",
    "\n",
    "# Question 56\n",
    "\n",
    "![Image](https://github.com/user-attachments/assets/7f38d4bf-4e27-4892-b00f-8b4893e64555)\n",
    "\n",
    "Answer: D\n",
    "\n",
    "\n",
    "# Question 67\n",
    "\n",
    "![Image](https://github.com/user-attachments/assets/fb94062f-9ae0-449f-bab0-410c3e5aea82)\n",
    "\n",
    "Answer: A and C"
   ]
  },
  {
   "cell_type": "markdown",
   "metadata": {},
   "source": [
    "![Image](https://github.com/user-attachments/assets/e7a4aa16-7f21-4b85-8815-5cef2b372e2d)\n",
    "\n",
    "![Image](https://github.com/user-attachments/assets/ae31f23e-12da-430f-b683-05e581ca9d59)\n",
    "\n",
    "\n",
    "# Skills Analysis\n",
    "\n",
    "Based on my average performance, I need to work on \n",
    "- 2.1: Binary Numbers\n",
    "- 3.15: Random Values\n",
    "- 3.17: Algorithmic Efficiency\n",
    "- 5.4: Crowdsourcing\n",
    "\n",
    "This means I need to focus the most on binary numbers and loops. Binary numbers are fundamental in computer science, so practicing conversions and operations will strengthen my understanding. Loops and random values are important for problem-solving in coding, so I should practice implementing them in different scenarios. Algorithmic efficiency will help me write faster and more optimized programs, while crowdsourcing is useful in collaborative problem-solving. To improve in these areas, I could not only take more practice tests but also work on small projects, watch tutorials, and try coding challenges to deepen my understanding."
   ]
  }
 ],
 "metadata": {
  "kernelspec": {
   "display_name": "Python 3",
   "language": "python",
   "name": "python3"
  },
  "language_info": {
   "name": "python",
   "version": "3.10.12"
  }
 },
 "nbformat": 4,
 "nbformat_minor": 2
}
