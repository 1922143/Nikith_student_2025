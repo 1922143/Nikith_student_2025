{
 "cells": [
  {
   "cell_type": "raw",
   "metadata": {
    "vscode": {
     "languageId": "raw"
    }
   },
   "source": [
    "---\n",
    "layout: post\n",
    "title: 2020 Practice MCQ Blog\n",
    "description: A reflection on my mcq\n",
    "type: issues \n",
    "comments: true\n",
    "---"
   ]
  },
  {
   "cell_type": "markdown",
   "metadata": {},
   "source": [
    "I got a 61/67 on the MCQ after spending around 3 hours, here is an analysis on what I got wrong:\n",
    "\n",
    "![Image](https://github.com/user-attachments/assets/8b2ab726-6b1a-48ca-b7d1-499552b6c58e)\n",
    "\n",
    "\n",
    "# Question 11\n",
    "\n",
    "![Image](https://github.com/user-attachments/assets/c2b94353-fa0c-498c-9bb1-68f9919d4c93)\n",
    "\n",
    "\n",
    "# Question 45\n",
    "\n",
    "![Image](https://github.com/user-attachments/assets/29181858-0e86-405c-9b32-517c3ee9e363)\n",
    "\n",
    "\n",
    "# Question 53\n",
    "\n",
    "![Image](https://github.com/user-attachments/assets/428e968e-a370-40ff-a4e3-d3a5ad7ffde6)\n",
    "\n",
    "\n",
    "# Question 54\n",
    "\n",
    "![Image](https://github.com/user-attachments/assets/36c429de-12d0-4511-9594-088e4a566e6b)\n",
    "\n",
    "\n",
    "# Question 56\n",
    "\n",
    "![Image](https://github.com/user-attachments/assets/7f38d4bf-4e27-4892-b00f-8b4893e64555)\n",
    "\n",
    "\n",
    "# Question 67\n",
    "\n",
    "![Image](https://github.com/user-attachments/assets/fb94062f-9ae0-449f-bab0-410c3e5aea82)"
   ]
  }
 ],
 "metadata": {
  "kernelspec": {
   "display_name": "Python 3",
   "language": "python",
   "name": "python3"
  },
  "language_info": {
   "name": "python",
   "version": "3.10.12"
  }
 },
 "nbformat": 4,
 "nbformat_minor": 2
}
