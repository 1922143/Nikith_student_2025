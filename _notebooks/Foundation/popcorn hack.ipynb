{
 "cells": [
  {
   "cell_type": "code",
   "execution_count": 1,
   "metadata": {},
   "outputs": [
    {
     "name": "stdout",
     "output_type": "stream",
     "text": [
      "Example 1:\n",
      " {\"name\": \"McLaren Spyder\", \"performance\": {\"engine\": \"4.0-liter twin-turbo V8\", \"horsepower\": 720, \"acceleration\": \"0 to 100 km/h in 2.9 seconds\", \"top_speed\": \"325 km/h\"}, \"features\": {\"driving_assistance\": \"advanced stability control\", \"exterior\": \"sleek aerodynamic design\", \"interior\": \"luxurious leather and carbon fiber\"}, \"pricing\": {\"original_price\": \"$208,000\", \"production_run\": \"limited\", \"rarity\": \"highly exclusive\"}}\n",
      "\n",
      "Example 2:\n",
      " {\n",
      "  \"name\": \"McLaren Spyder\",\n",
      "  \"performance\": {\n",
      "    \"engine\": \"4.0-liter twin-turbo V8\",\n",
      "    \"horsepower\": 720,\n",
      "    \"acceleration\": \"0 to 100 km/h in 2.9 seconds\",\n",
      "    \"top_speed\": \"325 km/h\"\n",
      "  },\n",
      "  \"features\": {\n",
      "    \"driving_assistance\": \"advanced stability control\",\n",
      "    \"exterior\": \"sleek aerodynamic design\",\n",
      "    \"interior\": \"luxurious leather and carbon fiber\"\n",
      "  },\n",
      "  \"pricing\": {\n",
      "    \"original_price\": \"$208,000\",\n",
      "    \"production_run\": \"limited\",\n",
      "    \"rarity\": \"highly exclusive\"\n",
      "  }\n",
      "}\n",
      "\n",
      "Example 3:\n",
      " {\n",
      "    \"name\": \"McLaren Spyder\",\n",
      "    \"performance\": {\n",
      "        \"engine\": \"4.0-liter twin-turbo V8\",\n",
      "        \"horsepower\": 720,\n",
      "        \"acceleration\": \"0 to 100 km/h in 2.9 seconds\",\n",
      "        \"top_speed\": \"325 km/h\"\n",
      "    },\n",
      "    \"features\": {\n",
      "        \"driving_assistance\": \"advanced stability control\",\n",
      "        \"exterior\": \"sleek aerodynamic design\",\n",
      "        \"interior\": \"luxurious leather and carbon fiber\"\n",
      "    },\n",
      "    \"pricing\": {\n",
      "        \"original_price\": \"$208,000\",\n",
      "        \"production_run\": \"limited\",\n",
      "        \"rarity\": \"highly exclusive\"\n",
      "    }\n",
      "}\n"
     ]
    }
   ],
   "source": [
    "import json\n",
    "\n",
    "mclaren_spyder = {\n",
    "    \"name\": \"McLaren Spyder\",\n",
    "    \"performance\": {\n",
    "        \"engine\": \"4.0-liter twin-turbo V8\",\n",
    "        \"horsepower\": 720,\n",
    "        \"acceleration\": \"0 to 100 km/h in 2.9 seconds\",\n",
    "        \"top_speed\": \"325 km/h\"\n",
    "    },\n",
    "    \"features\": {\n",
    "        \"driving_assistance\": \"advanced stability control\",\n",
    "        \"exterior\": \"sleek aerodynamic design\",\n",
    "        \"interior\": \"luxurious leather and carbon fiber\"\n",
    "    },\n",
    "    \"pricing\": {\n",
    "        \"original_price\": \"$208,000\",\n",
    "        \"production_run\": \"limited\",\n",
    "        \"rarity\": \"highly exclusive\"\n",
    "    }\n",
    "}\n",
    "\n",
    "\n",
    "json_string_1 = json.dumps(mclaren_spyder)\n",
    "print(\"Example 1:\\n\", json_string_1)\n",
    "\n",
    "json_string_2 = json.dumps(mclaren_spyder, indent=2)\n",
    "print(\"\\nExample 2:\\n\", json_string_2)\n",
    "\n",
    "json_string_3 = json.dumps(mclaren_spyder, indent=4, separators=(',', ': '))\n",
    "print(\"\\nExample 3:\\n\", json_string_3)"
   ]
  }
 ],
 "metadata": {
  "kernelspec": {
   "display_name": "venv",
   "language": "python",
   "name": "python3"
  },
  "language_info": {
   "codemirror_mode": {
    "name": "ipython",
    "version": 3
   },
   "file_extension": ".py",
   "mimetype": "text/x-python",
   "name": "python",
   "nbconvert_exporter": "python",
   "pygments_lexer": "ipython3",
   "version": "3.10.12"
  }
 },
 "nbformat": 4,
 "nbformat_minor": 2
}
