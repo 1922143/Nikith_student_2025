{
 "cells": [
  {
   "cell_type": "code",
   "execution_count": 3,
   "metadata": {},
   "outputs": [
    {
     "name": "stdout",
     "output_type": "stream",
     "text": [
      "O(1): 10\n"
     ]
    }
   ],
   "source": [
    "def get_first_element(arr):\n",
    "    return arr[0]\n",
    "\n",
    "print(\"O(1):\", get_first_element([10, 20, 30, 40])) "
   ]
  },
  {
   "cell_type": "code",
   "execution_count": 4,
   "metadata": {},
   "outputs": [
    {
     "name": "stdout",
     "output_type": "stream",
     "text": [
      "O(log n): True\n",
      "O(log n): False\n"
     ]
    }
   ],
   "source": [
    "def binary_search(arr, target):\n",
    "    low = 0\n",
    "    high = len(arr) - 1\n",
    "    \n",
    "    while low <= high:\n",
    "        mid = (low + high) // 2\n",
    "        if arr[mid] == target:\n",
    "            return True\n",
    "        elif arr[mid] < target:\n",
    "            low = mid + 1\n",
    "        else:\n",
    "            high = mid - 1\n",
    "    return False\n",
    "\n",
    "print(\"O(log n):\", binary_search([1, 3, 5, 7, 9, 11], 7))   \n",
    "print(\"O(log n):\", binary_search([1, 3, 5, 7, 9, 11], 8))   "
   ]
  },
  {
   "cell_type": "code",
   "execution_count": 5,
   "metadata": {},
   "outputs": [
    {
     "name": "stdout",
     "output_type": "stream",
     "text": [
      "O(n): 10\n"
     ]
    }
   ],
   "source": [
    "def find_max(arr):\n",
    "    max_val = arr[0]\n",
    "    for num in arr:\n",
    "        if num > max_val:\n",
    "            max_val = num\n",
    "    return max_val\n",
    "\n",
    "print(\"O(n):\", find_max([2, 8, 5, 1, 10, 3]))  \n"
   ]
  },
  {
   "cell_type": "code",
   "execution_count": 6,
   "metadata": {},
   "outputs": [
    {
     "name": "stdout",
     "output_type": "stream",
     "text": [
      "O(n²): 4\n"
     ]
    }
   ],
   "source": [
    "def count_duplicates(arr):\n",
    "    count = 0\n",
    "    for i in range(len(arr)):\n",
    "        for j in range(i + 1, len(arr)):\n",
    "            if arr[i] == arr[j]:\n",
    "                count += 1\n",
    "    return count\n",
    "\n",
    "print(\"O(n²):\", count_duplicates([1, 2, 3, 2, 1, 4, 1]))  \n"
   ]
  }
 ],
 "metadata": {
  "kernelspec": {
   "display_name": "venv",
   "language": "python",
   "name": "python3"
  },
  "language_info": {
   "codemirror_mode": {
    "name": "ipython",
    "version": 3
   },
   "file_extension": ".py",
   "mimetype": "text/x-python",
   "name": "python",
   "nbconvert_exporter": "python",
   "pygments_lexer": "ipython3",
   "version": "3.10.12"
  }
 },
 "nbformat": 4,
 "nbformat_minor": 2
}
