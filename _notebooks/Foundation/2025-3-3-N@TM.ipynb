{
 "cells": [
  {
   "cell_type": "raw",
   "metadata": {
    "vscode": {
     "languageId": "raw"
    }
   },
   "source": [
    "---\n",
    "layout: post\n",
    "title: N@TM\n",
    "description: My experience at N@TM\n",
    "type: issues \n",
    "comments: true\n",
    "---"
   ]
  },
  {
   "cell_type": "raw",
   "metadata": {
    "vscode": {
     "languageId": "raw"
    }
   },
   "source": [
    "At N@TM, other than presenting my project, I walked around and saw other interesting projects. It was a great experience as I got to see projects from CSSE and CSA. Here are some of the projects that I saw:"
   ]
  },
  {
   "cell_type": "markdown",
   "metadata": {},
   "source": [
    "\n",
    "\n",
    "# 1. Take a Byte (CSP)\n",
    "\n",
    "Take a Byte is an innovative recipe website that tailors suggestions based on users' culinary interests and preferred cuisines. I was especially interested in the fridge-themed frontend design, where recipes appear inside a digital fridge. Users can upvote or downvote recipes and engage with others through interactive features. A next step for my feature is to add uniqueness to create a more engaging user experience. This concept of immersive design is something we want to integrate into Striver, aiming to create an even more distinctive and engaging platform. I also filled out this form that they had and one piece of feedback I gave was that they could make the user experience even more engaing by having a wider variety of cuisines that users can pick from."
   ]
  },
  {
   "cell_type": "markdown",
   "metadata": {},
   "source": [
    "![Image](https://github.com/user-attachments/assets/395ca59b-8790-41ca-b9d5-f357d91e5c70)\n",
    "![Image](https://github.com/user-attachments/assets/a2b8470e-c9c0-4d22-9064-3135af5fd57e)"
   ]
  },
  {
   "cell_type": "markdown",
   "metadata": {},
   "source": [
    "\n",
    "\n",
    "# 2. Discord Basement Simulator (CSSE)\n",
    "\n",
    "This was a CSSE project and I thought it was very interesting as I had never got the chance to see one before this. This game had an npc in a basement setting. The npc was interactive and had randomly generated dialougue. There were also mini games that the user could play to earn money. This added more to the user experience and created a fun motive to play the game. One example of the mini games was a password game where the user had to guess the password based on a set of clues. One thing I would reccomend would be to add difficulty levels to the mini games to increase the immersive experience."
   ]
  },
  {
   "cell_type": "markdown",
   "metadata": {},
   "source": [
    "![Image](https://github.com/user-attachments/assets/5da124d6-7cf7-4295-9960-e5d3e0cfcf7c)"
   ]
  },
  {
   "cell_type": "markdown",
   "metadata": {},
   "source": [
    "\n",
    "\n",
    "# 3. Pawnsy (CSP)\n",
    "\n",
    "Pawnsy is a website where a user can play chess with an ai bot and get feedback. It was super interesting because there were different difficulties that a user could play at, making for a more ineteresting experience. It reminded me of the website chess.com but with a setting that you could ractice and get better with. Out of all the projects I saw during night at the museum, this was the most interesting as it was the most interactive, creating greater user engagement."
   ]
  },
  {
   "cell_type": "markdown",
   "metadata": {},
   "source": [
    "![Image](https://github.com/user-attachments/assets/4b640a57-9dd3-44e0-8465-62c3db6632a5)"
   ]
  },
  {
   "cell_type": "markdown",
   "metadata": {},
   "source": [
    "\n",
    "\n",
    "# Feedback\n",
    "\n",
    "At N@TM, we had a google form that the audience could fill out after watching our demo. Here is a graph of our responses:\n",
    "\n",
    "![Image](https://github.com/user-attachments/assets/cb8c7f17-25f2-4585-9343-d931ad3d5848)\n",
    "\n",
    "We got an average score of 8.0 so there are some areas we definitley could work on. Here was some feedback that we got:\n",
    "- Make system UI better and user friendly\n",
    "- Felt the theme was a little dark for a self-motivation site\n",
    "- Your features are pretty basic, all the user does is input something and post. I would add some external APIs to spice things up.\n",
    "\n",
    "Based on this feedback, I could improve my feature by creating a more interesting theme, probably with my teamates so we could implement it to ur whole website. Another important piece of feedback was adding more APIs to make thing more interesting. An API I could add to my feature to make things interesting is an api that could find the cheapest flights to bucket list locations."
   ]
  }
 ],
 "metadata": {
  "kernelspec": {
   "display_name": "Python 3",
   "language": "python",
   "name": "python3"
  },
  "language_info": {
   "name": "python",
   "version": "3.10.12"
  }
 },
 "nbformat": 4,
 "nbformat_minor": 2
}
