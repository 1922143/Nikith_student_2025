{
 "cells": [
  {
   "cell_type": "raw",
   "metadata": {
    "vscode": {
     "languageId": "raw"
    }
   },
   "source": [
    "---\n",
    "layout: post\n",
    "title: Project Feature\n",
    "description: Highlighting FRQ and CPT requirements\n",
    "type: issues \n",
    "comments: true\n",
    "---"
   ]
  },
  {
   "cell_type": "markdown",
   "metadata": {},
   "source": [
    "\n",
    "# CPT Requirements:\n",
    "\n",
    "- Database:\n",
    "\n",
    "![Image](https://github.com/user-attachments/assets/81b42dc7-61d3-4a43-8785-c330588a2ba0)\n",
    "\n",
    "\n",
    "- Procedure:\n",
    "\n",
    "![Image](https://github.com/user-attachments/assets/9a17b407-ce13-4a1a-bc4c-04de4f0ee997)\n",
    "\n",
    "\n",
    "- Call to procedure:\n",
    "\n",
    "![Image](https://github.com/user-attachments/assets/d159a0c6-33a8-4c4e-b23d-149e5704e9b4)\n",
    "\n",
    "\n",
    "- Selection:\n",
    "\n",
    "![Image](https://github.com/user-attachments/assets/dbb1f90c-fb91-4a03-9aec-b8d8a48ce107)\n",
    "\n",
    "\n",
    "- Iteration:\n",
    "\n",
    "![Image](https://github.com/user-attachments/assets/decd2b17-83cb-4808-9959-9455d69252eb)\n",
    "\n",
    "\n",
    "- Input from User:\n",
    "\n",
    "![Image](https://github.com/user-attachments/assets/5d6cae01-01db-41ff-9548-03ed2045abf0)\n",
    "\n",
    "![Image](https://github.com/user-attachments/assets/c74727ec-41db-4369-a3f4-9f0772f8caa5)"
   ]
  }
 ],
 "metadata": {
  "kernelspec": {
   "display_name": "Python 3",
   "language": "python",
   "name": "python3"
  },
  "language_info": {
   "name": "python",
   "version": "3.10.12"
  }
 },
 "nbformat": 4,
 "nbformat_minor": 2
}
