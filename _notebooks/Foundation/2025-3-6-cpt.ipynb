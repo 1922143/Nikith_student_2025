{
 "cells": [
  {
   "cell_type": "raw",
   "metadata": {
    "vscode": {
     "languageId": "raw"
    }
   },
   "source": [
    "---\n",
    "layout: post\n",
    "title: Project Feature\n",
    "description: Highlighting FRQ and CPT requirements\n",
    "type: issues \n",
    "comments: true\n",
    "---"
   ]
  },
  {
   "cell_type": "markdown",
   "metadata": {},
   "source": [
    "# Project Features:\n",
    "\n",
    "\n",
    "# 1. Full Stack\n",
    "- This bucket list feature integrates between frontend, backend, and the database\\\n",
    "- Data stored in database from SQLAlchemy\n",
    "- Flask for the API\n",
    "\n",
    "![Image](https://github.com/user-attachments/assets/3bc813dc-c709-4d1a-bdd5-b2938d658e23)\n",
    "\n",
    "\n",
    "# 2. API\n",
    "- POST: Create a new bucket list item\n",
    "- GET: Retrieve static data as suggestions for bucket list item\n",
    "- DELETE: Remove a bucket list item\n",
    "- PUT: Update a bucket list item\n",
    "\n",
    "![Image](https://github.com/user-attachments/assets/eb160626-fc5d-4853-b293-2e94b64b5124)\n",
    "\n",
    "![Image](https://github.com/user-attachments/assets/da38933b-2d34-4192-86b3-326c3e79f4e6)\n",
    "\n",
    "\n",
    "# 3. Database\n",
    "- id: an identifier\n",
    "- user: profile associated with bucket list entry\n",
    "- title: Title of the bucket list item\n",
    "- description: Describes a little about the item\n",
    "- category: Either travel, adventure, or personal\n",
    "\n",
    "![Image](https://github.com/user-attachments/assets/8164bf11-d679-4e16-8d43-84ebf37e2fbe)\n",
    "\n",
    "\n",
    "# 4. Fetch\n",
    "- For frontend to backend integration\n",
    "\n",
    "![Image](https://github.com/user-attachments/assets/c2046aff-6c5e-431e-b781-cd7ea966e90a)"
   ]
  },
  {
   "cell_type": "markdown",
   "metadata": {},
   "source": [
    "\n",
    "# CPT Requirements:\n",
    "\n",
    "- Database:\n",
    "\n",
    "![Image](https://github.com/user-attachments/assets/81b42dc7-61d3-4a43-8785-c330588a2ba0)\n",
    "\n",
    "\n",
    "- Procedure:\n",
    "\n",
    "![Image](https://github.com/user-attachments/assets/9a17b407-ce13-4a1a-bc4c-04de4f0ee997)\n",
    "\n",
    "\n",
    "- Call to procedure:\n",
    "\n",
    "![Image](https://github.com/user-attachments/assets/d159a0c6-33a8-4c4e-b23d-149e5704e9b4)\n",
    "\n",
    "\n",
    "- Selection:\n",
    "\n",
    "![Image](https://github.com/user-attachments/assets/dbb1f90c-fb91-4a03-9aec-b8d8a48ce107)\n",
    "\n",
    "\n",
    "- Iteration:\n",
    "\n",
    "![Image](https://github.com/user-attachments/assets/decd2b17-83cb-4808-9959-9455d69252eb)\n",
    "\n",
    "\n",
    "- Input from User:\n",
    "\n",
    "![Image](https://github.com/user-attachments/assets/5d6cae01-01db-41ff-9548-03ed2045abf0)\n",
    "\n",
    "![Image](https://github.com/user-attachments/assets/c74727ec-41db-4369-a3f4-9f0772f8caa5)"
   ]
  }
 ],
 "metadata": {
  "kernelspec": {
   "display_name": "Python 3",
   "language": "python",
   "name": "python3"
  },
  "language_info": {
   "name": "python",
   "version": "3.10.12"
  }
 },
 "nbformat": 4,
 "nbformat_minor": 2
}
