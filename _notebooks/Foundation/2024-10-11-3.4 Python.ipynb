{
 "cells": [
  {
   "cell_type": "code",
   "execution_count": 2,
   "metadata": {},
   "outputs": [
    {
     "name": "stdout",
     "output_type": "stream",
     "text": [
      "Total letters: 3\n",
      "Total numbers: 3\n",
      "Total spaces: 3\n"
     ]
    }
   ],
   "source": [
    "def count_character_types(input_string):\n",
    "    total_letters = 0\n",
    "    total_numbers = 0\n",
    "    total_spaces = 0\n",
    "\n",
    "    for char in input_string:\n",
    "        if char.isalpha():\n",
    "            total_letters += 1\n",
    "        elif char.isdigit():\n",
    "            total_numbers += 1\n",
    "        elif char.isspace():\n",
    "            total_spaces += 1\n",
    "\n",
    "    return total_letters, total_numbers, total_spaces\n",
    "\n",
    "\n",
    "if __name__ == \"__main__\":\n",
    "    user_input = input(\"Enter a string: \")\n",
    "    letters, numbers, spaces = count_character_types(user_input)\n",
    "\n",
    "    print(f\"Total letters: {letters}\")\n",
    "    print(f\"Total numbers: {numbers}\")\n",
    "    print(f\"Total spaces: {spaces}\")"
   ]
  }
 ],
 "metadata": {
  "kernelspec": {
   "display_name": "venv",
   "language": "python",
   "name": "python3"
  },
  "language_info": {
   "codemirror_mode": {
    "name": "ipython",
    "version": 3
   },
   "file_extension": ".py",
   "mimetype": "text/x-python",
   "name": "python",
   "nbconvert_exporter": "python",
   "pygments_lexer": "ipython3",
   "version": "3.10.12"
  }
 },
 "nbformat": 4,
 "nbformat_minor": 2
}
