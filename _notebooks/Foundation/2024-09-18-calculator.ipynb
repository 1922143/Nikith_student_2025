{
 "cells": [
  {
   "cell_type": "raw",
   "metadata": {
    "vscode": {
     "languageId": "raw"
    }
   },
   "source": [
    "---\n",
    "layout: post\n",
    "title: Calculator\n",
    "description:  Do some math\n",
    "type: issues \n",
    "comments: true\n",
    "---"
   ]
  },
  {
   "cell_type": "markdown",
   "metadata": {
    "vscode": {
     "languageId": "raw"
    }
   },
   "source": [
    "<head>\n",
    "    <meta charset=\"UTF-8\">\n",
    "    <meta name=\"viewport\" content=\"width=device-width, initial-scale=1.0\">\n",
    "    <title>Calculator</title>\n",
    "    <style>\n",
    "        body { font-family: Arial, sans-serif; }\n",
    "        #calculator { width: 220px; margin: auto; }\n",
    "        input { width: 100%; height: 40px; margin-bottom: 10px; text-align: right; font-size: 20px; }\n",
    "        button { width: 50px; height: 50px; margin: 5px; font-size: 20px; }\n",
    "        .button-container { display: grid; grid-template-columns: repeat(4, 1fr); }\n",
    "    </style>\n",
    "</head>\n",
    "<body>\n",
    "\n",
    "<div id=\"calculator\">\n",
    "    <input type=\"text\" id=\"result\" disabled />\n",
    "    <div class=\"button-container\">\n",
    "        <button onclick=\"clearResult()\">C</button>\n",
    "        <button onclick=\"appendToResult('7')\">7</button>\n",
    "        <button onclick=\"appendToResult('8')\">8</button>\n",
    "        <button onclick=\"appendToResult('9')\">9</button>\n",
    "        <button onclick=\"appendToResult('/')\">/</button>\n",
    "        <button onclick=\"appendToResult('4')\">4</button>\n",
    "        <button onclick=\"appendToResult('5')\">5</button>\n",
    "        <button onclick=\"appendToResult('6')\">6</button>\n",
    "        <button onclick=\"appendToResult('*')\">*</button>\n",
    "        <button onclick=\"appendToResult('1')\">1</button>\n",
    "        <button onclick=\"appendToResult('2')\">2</button>\n",
    "        <button onclick=\"appendToResult('3')\">3</button>\n",
    "        <button onclick=\"appendToResult('-')\">-</button>\n",
    "        <button onclick=\"appendToResult('0')\">0</button>\n",
    "        <button onclick=\"calculateResult()\">=</button>\n",
    "        <button onclick=\"appendToResult('+')\">+</button>\n",
    "    </div>\n",
    "</div>\n",
    "\n",
    "<script>\n",
    "    function appendToResult(value) {\n",
    "        const resultField = document.getElementById('result');\n",
    "        resultField.value += value;\n",
    "    }\n",
    "\n",
    "    function clearResult() {\n",
    "        document.getElementById('result').value = '';\n",
    "    }\n",
    "\n",
    "    function calculateResult() {\n",
    "        const resultField = document.getElementById('result');\n",
    "        try {\n",
    "            resultField.value = eval(resultField.value);\n",
    "        } catch (e) {\n",
    "            resultField.value = 'Error';\n",
    "        }\n",
    "    }\n",
    "</script>\n",
    "\n",
    "</body>\n",
    "</html>"
   ]
  }
 ],
 "metadata": {
  "kernelspec": {
   "display_name": "venv",
   "language": "python",
   "name": "python3"
  },
  "language_info": {
   "codemirror_mode": {
    "name": "ipython",
    "version": 3
   },
   "file_extension": ".py",
   "mimetype": "text/x-python",
   "name": "python",
   "nbconvert_exporter": "python",
   "pygments_lexer": "ipython3",
   "version": "3.10.12"
  }
 },
 "nbformat": 4,
 "nbformat_minor": 2
}
