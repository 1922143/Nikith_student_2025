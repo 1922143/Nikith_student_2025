{
 "cells": [
  {
   "cell_type": "raw",
   "id": "83ca061e",
   "metadata": {
    "vscode": {
     "languageId": "raw"
    }
   },
   "source": [
    "---\n",
    "layout: post\n",
    "title: Big Idea 3 Unit 3\n",
    "type: issues \n",
    "comments: true\n",
    "---"
   ]
  },
  {
   "cell_type": "markdown",
   "id": "1c4ed8cb",
   "metadata": {},
   "source": [
    "## Summary\n",
    "\n",
    "My group taught this unit. This one was about **mathematical operators**.\n",
    "\n",
    "- **Addition:** `a + b`\n",
    "- **Subtraction:** `a - b`\n",
    "- **Multiplication:** `a * b`\n",
    "- **Division:** `a / b`\n",
    "- **Exponents:** `a ** b`\n",
    "- **Modulus (remainder of a / b):** `a % b` (written as `MOD` in math)\n",
    "- **Floor Division (rounds down to nearest whole number):**\n",
    "  - In **Python:** `a // b`\n",
    "  - In **JavaScript:** `Math.floor(a / b)`\n",
    "\n",
    "Math follows the **order of operations** (PEMDAS).\n",
    "\n",
    "[Click this link to see our page: Link to 3.3](https://nighthawkcoders.github.io/portfolio_2025/csp/big-idea/p5/3-3-1)"
   ]
  }
 ],
 "metadata": {
  "kernelspec": {
   "display_name": "venv",
   "language": "python",
   "name": "python3"
  },
  "language_info": {
   "name": "python",
   "version": "3.10.12"
  }
 },
 "nbformat": 4,
 "nbformat_minor": 5
}
