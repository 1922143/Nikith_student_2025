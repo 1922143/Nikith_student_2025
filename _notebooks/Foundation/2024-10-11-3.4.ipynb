{
 "cells": [
  {
   "cell_type": "raw",
   "id": "5e6b29ec",
   "metadata": {
    "vscode": {
     "languageId": "raw"
    }
   },
   "source": [
    "---\n",
    "layout: post\n",
    "title: Big Idea 3 Unit 4\n",
    "type: issues \n",
    "comments: true\n",
    "---"
   ]
  },
  {
   "cell_type": "code",
   "execution_count": null,
   "id": "85cfd69c",
   "metadata": {},
   "outputs": [],
   "source": [
    "# Python examples\n",
    "# Popcorn Hack Python\n",
    "# Finding number of characters in last name using Len.\n",
    "yay = len(\"Muralikrishnan\")\n",
    "print(yay) # Output is 14\n",
    "\n",
    "# Using concat to merge first and last name\n",
    "name = \"Nikith\" + \"Muralikrishnan\"\n",
    "print(name) # Output is Nikith Muralikrishnan\n",
    "\n",
    "# Using substring to show 3rd to 6th letters of my name\n",
    "substring = name[2:6]\n",
    "print(substring) # Output is kith\n",
    "\n",
    "\n",
    "# Homework Python\n",
    "def character_count(input_string): \n",
    "    total_letters = 0\n",
    "    total_numbers = 0\n",
    "    total_spaces = 0  # sets all variables to 0\n",
    "\n",
    "    for char in input_string:\n",
    "        if char.isalpha():\n",
    "            total_letters += 1  # If the character in the input string is a letter, the letter count increases by 1\n",
    "        elif char.isdigit():\n",
    "            total_numbers += 1  # If character in string is a number, the number variable increases by 1\n",
    "        elif char.isspace():\n",
    "            total_spaces += 1   # if the character in the string is a space, the space variable increases by 1\n",
    "\n",
    "    return total_letters, total_numbers, total_spaces  #returns the final number of letters, numbers, and spaces\n",
    "\n",
    "# Get user input\n",
    "user_input = input(\"Enter string: \")   # gets input\n",
    "letters, numbers, spaces = character_count(user_input)\n",
    "\n",
    "# Print the results\n",
    "print(f\"Total letters: {letters}\") # Prints number of letters\n",
    "print(f\"Total numbers: {numbers}\")  # Prints number of numbers\n",
    "print(f\"Total spaces: {spaces}\") # prints number of spaces"
   ]
  },
  {
   "cell_type": "code",
   "execution_count": null,
   "id": "32a3ee61",
   "metadata": {
    "vscode": {
     "languageId": "javascript"
    }
   },
   "outputs": [],
   "source": [
    "// Javascript Examples\n",
    "// JS Popcorn Hack\n",
    "let last_name = \"Muralikrishnan\"; // setting last_name equal to Muralikrishnan\n",
    "let the_length = last_name.length; \n",
    "\n",
    "console.log(the_length); // Output would be 15\n",
    "\n",
    "let a_name = \"Nikith \" + \"Muralikrishnan\";\n",
    "console.log(a_name); // Output would be Nikith Muralikrishnan\n",
    "\n",
    "let a_substring = a_name.substring(1, 8);\n",
    "console.log(a_substring); // Output would be ikith M\n",
    "\n",
    "// JS homework\n",
    "function characterCount(inputString) { \n",
    "    let totalLetters = 0;\n",
    "    let totalNumbers = 0;\n",
    "    let totalSpaces = 0; // sets all variables to 0\n",
    "\n",
    "    for (let char of inputString) {\n",
    "        if (char.match(/[a-zA-Z]/)) {\n",
    "            totalLetters += 1;  // If the character is a letter, increase the letter count\n",
    "        } else if (char.match(/[0-9]/)) {\n",
    "            totalNumbers += 1;  // If character is a number, increase the number count\n",
    "        } else if (char === ' ') {\n",
    "            totalSpaces += 1;   // If the character is a space, increase the space count\n",
    "        }\n",
    "    }\n",
    "\n",
    "    return [totalLetters, totalNumbers, totalSpaces]; // returns the counts in an array\n",
    "}\n",
    "\n",
    "// Get user input\n",
    "const userInput = prompt(\"Enter a string:\"); // gets input from user\n",
    "const [letters, numbers, spaces] = characterCount(userInput); // Call the function\n",
    "\n",
    "// Print the results\n",
    "console.log(`Total letters: ${letters}`);   // Prints number of letters\n",
    "console.log(`Total numbers: ${numbers}`);   // Prints number of numbers\n",
    "console.log(`Total spaces: ${spaces}`);     // Prints number of spaces"
   ]
  }
 ],
 "metadata": {
  "kernelspec": {
   "display_name": "venv",
   "language": "python",
   "name": "python3"
  },
  "language_info": {
   "name": "python",
   "version": "3.10.12"
  }
 },
 "nbformat": 4,
 "nbformat_minor": 5
}
