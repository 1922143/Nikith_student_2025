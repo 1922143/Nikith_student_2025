{
 "cells": [
  {
   "cell_type": "raw",
   "id": "241f3bd8",
   "metadata": {
    "vscode": {
     "languageId": "raw"
    }
   },
   "source": [
    "---\n",
    "layout: post\n",
    "title: Experience in CSP and Skills\n",
    "description: A collection of my full-stack projects and technical work—demonstrating the tools I've mastered, the roles I’ve taken on, and the outcomes I've driven.\n",
    "type: issues \n",
    "comments: true\n",
    "---"
   ]
  },
  {
   "cell_type": "markdown",
   "id": "814d7ab4",
   "metadata": {},
   "source": [
    "### **Open-Coding Society**  \n",
    "**GitHub:** [Frontend](https://github.com/Open-Coding-Society/student.git) | [Backend](https://github.com/Open-Coding-Society/flask.git)  \n",
    "\n",
    "Open-Coding Society is an open-source platform designed to empower students—especially those in the 2025–2026 school year—to explore software development through real projects. It serves as a collaborative hub where students can contribute to beginner-friendly repositories, build technical skills, and share educational tools that benefit their peers.\n",
    "\n",
    "**My Contributions**  \n",
    "- Redesigned the **“Accounts”** and **“Workflows”** pages to improve clarity, accessibility, and user experience  \n",
    "- Created a comprehensive **VSCode Web Guide**, enabling users to deploy VSCode in-browser without installing software  \n",
    "- Developed a **Quiz Game** using Flask and JavaScript to gamify the learning process  \n",
    "- Built a **Leaderboard System** that connects users and their quiz scores through a relational table  \n",
    "- Contributed tutorials, UI enhancements, and deployment documentation for new contributors\n",
    "\n",
    "**Tools & Technologies**  \n",
    "`HTML`, `CSS`, `JavaScript`  \n",
    "`Flask`, `SQLAlchemy`, `Markdown`  \n",
    "`GitHub Pages`, `Git`\n",
    "\n",
    "**What I Learned**  \n",
    "- Designing interfaces for student accessibility  \n",
    "- Creating tutorials and educational content  \n",
    "- Building dynamic systems with Flask and SQL relationships  \n",
    "- Enhancing user motivation through gamification and progress tracking\n",
    "\n",
    "---\n",
    "\n",
    "### **Striverr**  \n",
    "**GitHub:** [Frontend](https://github.com/RayhaanSheeraj/StriverrFrontend.git) | [Backend](https://github.com/RayhaanSheeraj/StriverrBackend.git)  \n",
    "\n",
    "Striverr is a personalized **achievement tracking platform** built to help students set, manage, and celebrate their personal and academic goals. With a clean interface and intuitive workflow, it encourages users to break down large ambitions into achievable milestones and build daily habits around success.\n",
    "\n",
    "**My Contributions**  \n",
    "- Designed and implemented the **Bucket List** feature as a full-stack module  \n",
    "- Built RESTful APIs and connected them to a persistent database using Flask and SQL  \n",
    "- Developed frontend views to add, edit, and track progress on personal goals  \n",
    "- Ensured real-time interaction between frontend and backend with clear UI feedback\n",
    "\n",
    "**Tools & Technologies**  \n",
    "`Python (Flask)`, `JavaScript`  \n",
    "`HTML`, `CSS`, `SQLAlchemy`  \n",
    "`GitHub`, `REST APIs`\n",
    "\n",
    "**What I Learned**  \n",
    "- Full-stack API design with database integration  \n",
    "- Structuring user-focused features with clean UX  \n",
    "- Database schema design and routing logic  \n",
    "- Turning abstract goals into functional web features"
   ]
  },
  {
   "cell_type": "markdown",
   "id": "f1980203",
   "metadata": {},
   "source": [
    "# GitHub Contribution Statistics\n",
    "\n",
    "<img src=\"{{site.baseurl}}/images/grades.png\" alt=\"New Repo Page\" style=\"width:100%; border-radius: 12px;\"/>\n",
    "\n",
    "<img src=\"{{site.baseurl}}/images/grades-predictor.png\" alt=\"New Repo Page\" style=\"width:100%; border-radius: 12px;\"/>"
   ]
  }
 ],
 "metadata": {
  "kernelspec": {
   "display_name": "venv",
   "language": "python",
   "name": "python3"
  },
  "language_info": {
   "name": "python",
   "version": "3.10.12"
  }
 },
 "nbformat": 4,
 "nbformat_minor": 5
}
