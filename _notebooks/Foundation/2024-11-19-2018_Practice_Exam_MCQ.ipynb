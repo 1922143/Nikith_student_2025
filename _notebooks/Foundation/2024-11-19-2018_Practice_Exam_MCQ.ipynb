{
 "cells": [
  {
   "cell_type": "raw",
   "metadata": {
    "vscode": {
     "languageId": "raw"
    }
   },
   "source": [
    "---\n",
    "layout: post\n",
    "title: 2018 Practice MCQ Reflection\n",
    "description: About my practice MCQ\n",
    "comments: true\n",
    "---"
   ]
  },
  {
   "cell_type": "markdown",
   "metadata": {},
   "source": [
    "\n",
    "# Final MCQ Score: 59/66"
   ]
  },
  {
   "cell_type": "raw",
   "metadata": {
    "vscode": {
     "languageId": "raw"
    }
   },
   "source": [
    "\n",
    "Based on my results, I did well in most topics, but there are a few areas I need to work on. Specifically, in Extracting Information from Data (71%), I need to focus on understanding how to process, analyze, and interpret data from tables, graphs, and datasets, as well as how algorithms extract meaningful information to make decisions. In Using Programs with Data (50%), I need to improve on recognizing how programs interact with external data sources, manage input/output, and manipulate data for problem-solving. For Developing Algorithms (50%), I should review the design and efficiency of algorithms, paying special attention to pseudocode, flowcharts, and refining logic through iterative improvements. Additionally, in Simulations and Algorithmic Efficiency (50%), I need to strengthen my understanding of how simulations model real-world scenarios and how computational efficiency is measured and optimized. To improve, I plan to prioritize practicing real-world problems related to these areas and utilize online AP CSP practice exams. I also want to dive deeper into concepts like abstraction, efficiency, and data manipulation, as they are foundational to understanding broader computational principles. With targeted study and application, I am confident I can solidify these concepts and enhance my performance."
   ]
  },
  {
   "cell_type": "markdown",
   "metadata": {
    "vscode": {
     "languageId": "html"
    }
   },
   "source": [
    "![Screenshot 2024-11-19 122137.png](https://i.ibb.co/xfwGNbN/Screenshot-2024-11-19-122137.png)\n",
    "![Screenshot 2024-11-19 122205.png](https://i.ibb.co/G9zp2f7/Screenshot-2024-11-19-122205.png)\n"
   ]
  },
  {
   "cell_type": "markdown",
   "metadata": {
    "vscode": {
     "languageId": "raw"
    }
   },
   "source": [
    "\n",
    "# First Mistake: Question 12"
   ]
  },
  {
   "cell_type": "markdown",
   "metadata": {},
   "source": [
    "![Screenshot 2024-11-19 150017.png](https://i.ibb.co/5904kp9/Screenshot-2024-11-19-150017.png)"
   ]
  },
  {
   "cell_type": "raw",
   "metadata": {},
   "source": [
    "I said that the answer to this question was A but in reality, it was B. This is because the total number of registered users increase by increments of 0.4 to 0.5 million. Since there are 30.2 million users in the 10th year, by year 12, it would increase by an increment of 0.8 to 1 million. I think I got this wrong because I read the question as ho many registered users there would be by the 11th year not the 12th. Because of this, I picked the answer that was too low. To improve in this area, I believe I need to practice reconizing patterns but most I need to read the questions more closely."
   ]
  },
  {
   "cell_type": "markdown",
   "metadata": {
    "vscode": {
     "languageId": "raw"
    }
   },
   "source": [
    "\n",
    "# Second Mistake: Question 22"
   ]
  },
  {
   "cell_type": "markdown",
   "metadata": {},
   "source": [
    "![Screenshot 2024-11-19 150124.png](https://i.ibb.co/6ZHSyWc/Screenshot-2024-11-19-150124.png)"
   ]
  },
  {
   "cell_type": "raw",
   "metadata": {},
   "source": [
    "I said the answer to this question was A but it was B. This is because the boolean will evaluate to true when the counter less than 50% of the total. The counter is the number of temperatures greater than or equal to 90. This is the answer because the goal is to find if the majority of days were greater than 90. I put the answer A because I didn't realize it was looking for the majority, which would be greater than half. Instead I looked at from the other way. To improve, I could study booleans, and their functions."
   ]
  },
  {
   "cell_type": "markdown",
   "metadata": {
    "vscode": {
     "languageId": "raw"
    }
   },
   "source": [
    "\n",
    "# Other Mistakes: 34, 37, 40, 41, 43"
   ]
  },
  {
   "cell_type": "markdown",
   "metadata": {
    "vscode": {
     "languageId": "raw"
    }
   },
   "source": [
    "![Screenshot 2024-11-19 150237.png](https://i.ibb.co/99WHwbp/Screenshot-2024-11-19-150237.png)"
   ]
  },
  {
   "cell_type": "markdown",
   "metadata": {
    "vscode": {
     "languageId": "raw"
    }
   },
   "source": [
    "![Screenshot 2024-11-19 150451.png](https://i.ibb.co/D8J3WJt/Screenshot-2024-11-19-150451.png)"
   ]
  },
  {
   "cell_type": "markdown",
   "metadata": {
    "vscode": {
     "languageId": "raw"
    }
   },
   "source": [
    "![Screenshot 2024-11-19 150552.png](https://i.ibb.co/BqB7sg2/Screenshot-2024-11-19-150552.png)"
   ]
  },
  {
   "cell_type": "markdown",
   "metadata": {
    "vscode": {
     "languageId": "raw"
    }
   },
   "source": [
    "![Screenshot 2024-11-19 150739.png](https://i.ibb.co/ZdWn8GV/Screenshot-2024-11-19-150739.png)"
   ]
  },
  {
   "cell_type": "markdown",
   "metadata": {
    "vscode": {
     "languageId": "raw"
    }
   },
   "source": [
    "![Screenshot 2024-11-19 144957.png](https://i.ibb.co/PwFpgL1/Screenshot-2024-11-20-144957.png)"
   ]
  },
  {
   "cell_type": "markdown",
   "metadata": {
    "vscode": {
     "languageId": "raw"
    }
   },
   "source": [
    "\n",
    "# Improvement"
   ]
  },
  {
   "cell_type": "raw",
   "metadata": {
    "vscode": {
     "languageId": "raw"
    }
   },
   "source": [
    "Analyze Performance\n",
    "\n",
    "Focus on weaker areas like \"Extracting Information from Data\" and \"Developing Algorithms.\"\n",
    "Maintain strengths in areas with high scores, such as \"Boolean Expressions.\"\n",
    "Create a Study Schedule\n",
    "\n",
    "Dedicate daily or weekly sessions to specific units, prioritizing challenging topics.\n",
    "Include time to review strong areas for confidence.\n",
    "Study Strategies\n",
    "\n",
    "Revisit lessons or videos to strengthen understanding of difficult concepts.\n",
    "Practice small coding exercises to reinforce key skills.\n",
    "Use flashcards for memorizing terms like abstraction and conditionals.\n",
    "Practice Questions\n",
    "\n",
    "Solve targeted practice problems using review books or online resources.\n",
    "Review mistakes to improve comprehension of weaker topics.\n",
    "Simulate Exam Conditions\n",
    "\n",
    "Take timed, full-length practice exams to get familiar with the test format.\n",
    "Review incorrect answers to identify and fix misunderstandings.\n",
    "Seek Help\n",
    "\n",
    "Ask teachers or peers for guidance on difficult topics.\n",
    "Join study groups to collaborate and share insights.\n",
    "Final Review\n",
    "\n",
    "Use the last week to revisit key topics and analyze past errors.\n",
    "Self-Care\n",
    "\n",
    "Prioritize good sleep, healthy meals, and regular breaks to maintain focus and energy."
   ]
  }
 ],
 "metadata": {
  "kernelspec": {
   "display_name": "venv",
   "language": "python",
   "name": "python3"
  },
  "language_info": {
   "name": "python",
   "version": "3.10.12"
  }
 },
 "nbformat": 4,
 "nbformat_minor": 2
}
