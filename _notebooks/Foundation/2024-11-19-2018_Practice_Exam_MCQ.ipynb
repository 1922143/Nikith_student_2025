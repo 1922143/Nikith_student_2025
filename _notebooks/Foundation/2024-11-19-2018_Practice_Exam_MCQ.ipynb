{
 "cells": [
  {
   "cell_type": "raw",
   "metadata": {
    "vscode": {
     "languageId": "raw"
    }
   },
   "source": [
    "---\n",
    "layout: post\n",
    "title: 2018 Practice MCQ Reflection\n",
    "description: About my practice MCQ\n",
    "comments: true\n",
    "---"
   ]
  },
  {
   "cell_type": "code",
   "execution_count": null,
   "metadata": {
    "vscode": {
     "languageId": "html"
    }
   },
   "outputs": [],
   "source": [
    "<img src=\"{{site.baseurl}}/images/CSP_MCQ/Screenshot 2024-11-19 at 12.12.21 PM.jpeg\" alt=\"Screenshot 2024-11-19 at 12.12.21 PM.png\" width=\"100%\" height=\"100%\">\n"
   ]
  },
  {
   "cell_type": "markdown",
   "metadata": {},
   "source": []
  }
 ],
 "metadata": {
  "kernelspec": {
   "display_name": "venv",
   "language": "python",
   "name": "python3"
  },
  "language_info": {
   "name": "python",
   "version": "3.10.12"
  }
 },
 "nbformat": 4,
 "nbformat_minor": 2
}
