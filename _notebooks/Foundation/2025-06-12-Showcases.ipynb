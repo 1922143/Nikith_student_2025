{
 "cells": [
  {
   "cell_type": "raw",
   "id": "bf31246b",
   "metadata": {
    "vscode": {
     "languageId": "raw"
    }
   },
   "source": [
    "---\n",
    "layout: post\n",
    "title: Showcase\n",
    "description: My Experience at Night at the Museum.\n",
    "type: issues \n",
    "comments: true\n",
    "---"
   ]
  },
  {
   "cell_type": "markdown",
   "id": "8a94f88c",
   "metadata": {},
   "source": [
    "## Trimester 2: Observing Striverr\n",
    "\n",
    "One particularly notable project I encountered during the second trimester’s Night at the Museum was **Striverr**, an AI-powered productivity assistant. The application helps users manage tasks, track habits, and stay focused through an intuitive dashboard and smart reminders. It stood out for its clean design and integration of natural language processing to interpret user commands and goals.\n",
    "\n",
    "I suggested adding more customization features, such as theme options and productivity style settings (e.g., Pomodoro mode or Eisenhower Matrix views). I also recommended syncing with external calendars and task managers to broaden its usefulness in professional and academic settings.\n",
    "\n",
    "Overall, Striverr demonstrated thoughtful design and strong technical execution, making it one of the more impressive and practical tools at the event.\n",
    "\n",
    "---\n",
    "\n",
    "## Trimester 3: Presenting Open Coding Society\n",
    "\n",
    "During the third trimester’s Night at the Museum, I had the opportunity to present **Open Coding Society**, a platform my team and I developed to encourage collaborative coding and open-source contribution among students. The site allows users to publish and browse beginner-friendly coding projects, with integrated tutorials, live demos, and community feedback.\n",
    "\n",
    "We received positive feedback on the interactive features, especially the in-browser editor and live collaboration tools. Attendees appreciated the platform's mission to make open source more accessible to students. Suggestions included expanding language support and implementing a gamified contribution tracker.\n",
    "\n",
    "It was equally inspiring to explore other student projects, such as CSA’s stock market simulator by Tanay Shah. His project allowed users to experiment with investment strategies in a risk-free environment and was part of a larger economics-focused megaproject that explored Bitcoin mining and gambling mechanics. The depth and interdisciplinary nature of these projects were impressive.\n",
    "\n",
    "Presenting Open Coding Society and engaging with my peers’ work reaffirmed my passion for building tools that empower learning and community-driven development.\n",
    "\n",
    "<img src=\"{{site.baseurl}}/images/NATM1.png\" alt=\"New Repo Page\" style=\"width:100%; border-radius: 12px;\"/>\n",
    "\n",
    "---\n",
    "\n",
    "## Reflection\n",
    "\n",
    "Participating in Night at the Museum throughout the year was a transformative experience that broadened my understanding of innovation, teamwork, and communication. In Trimester 2, I took on the role of an observer and critically engaged with projects like Striverr, which helped me appreciate the blend of design and technical thinking involved in real-world applications.\n",
    "\n",
    "By Trimester 3, I transitioned into a presenter role, where I had to explain the goals, mechanics, and impact of Open Coding Society to a diverse audience. This experience pushed me to become a clearer communicator and a more confident representative of my work.\n",
    "\n",
    "These events cultivated a strong sense of confidence in both my technical and collaborative abilities. Most importantly, they built a community around constructive feedback, curiosity, and shared enthusiasm for technology. I leave this year with renewed motivation to create, connect, and contribute through engineering and open-source innovation.\n"
   ]
  }
 ],
 "metadata": {
  "language_info": {
   "name": "python"
  }
 },
 "nbformat": 4,
 "nbformat_minor": 5
}
