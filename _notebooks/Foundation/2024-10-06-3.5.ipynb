{
 "cells": [
  {
   "cell_type": "raw",
   "id": "8ad64613",
   "metadata": {
    "vscode": {
     "languageId": "raw"
    }
   },
   "source": [
    "---\n",
    "layout: post\n",
    "title: Big Idea 3 Unit 5\n",
    "type: issues \n",
    "comments: true\n",
    "---"
   ]
  },
  {
   "cell_type": "markdown",
   "id": "709d1f6f",
   "metadata": {},
   "source": [
    "## Summary\n",
    "\n",
    "My group taught this lesson as well:\n",
    "\n",
    "###  Relational Operators\n",
    "These are used to test the relationship between two variables. They are used for comparisons and result in a **Boolean** value of `True` or `False`.\n",
    "\n",
    "- `x == y` → equals  \n",
    "- `x != y` → not equal to  \n",
    "- `x > y` → greater than  \n",
    "- `x < y` → less than  \n",
    "- `x >= y` → greater than or equal to  \n",
    "- `x <= y` → less than or equal to  \n",
    "\n",
    "###  Logical Operators\n",
    "These are used to test **multiple conditions** to produce a single Boolean value.\n",
    "\n",
    "- **AND** (`&&` in JavaScript, `and` in Python):  \n",
    "  Returns `true` only if **both** conditions are true.  \n",
    "\n",
    "- **OR** (`||` in JavaScript, `or` in Python):  \n",
    "  Returns `true` if **at least one** condition is true.  \n",
    "\n",
    "- **NOT** (`!` in JavaScript, `not` in Python):  \n",
    "  Reverses the Boolean value — returns `true` if condition is false, and vice versa."
   ]
  },
  {
   "cell_type": "markdown",
   "id": "30a5954d",
   "metadata": {},
   "source": [
    " [Click here to find our lesson: Link to 3.5](https://nighthawkcoders.github.io/portfolio_2025/csp/big-idea/p5/3-5-1)"
   ]
  }
 ],
 "metadata": {
  "kernelspec": {
   "display_name": "venv",
   "language": "python",
   "name": "python3"
  },
  "language_info": {
   "name": "python",
   "version": "3.10.12"
  }
 },
 "nbformat": 4,
 "nbformat_minor": 5
}
