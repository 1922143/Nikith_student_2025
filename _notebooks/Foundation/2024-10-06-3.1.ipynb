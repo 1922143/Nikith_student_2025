{
 "cells": [
  {
   "cell_type": "raw",
   "id": "ba2ad1b0",
   "metadata": {
    "vscode": {
     "languageId": "raw"
    }
   },
   "source": [
    "---\n",
    "layout: post\n",
    "title: Big Idea 3 Unit 1\n",
    "type: issues \n",
    "comments: true\n",
    "---"
   ]
  },
  {
   "cell_type": "markdown",
   "id": "1f88bb05",
   "metadata": {},
   "source": [
    "In this lesson, you'll learn about:\n",
    "\n",
    "- Variables\n",
    "- Naming conventions\n",
    "- Data types\n",
    "\n",
    "### 🔤 Common Data Types\n",
    "\n",
    "| Data Type | Description |\n",
    "|-----------|-------------|\n",
    "| String    | Text enclosed in quotes (`\"Hello\"`) |\n",
    "| Integer   | Whole numbers (`3`, `42`) |\n",
    "| Float     | Decimal numbers (`3.14`, `7.0`) |\n",
    "| Boolean   | True/False values |\n",
    "| List / Array | Ordered collection of items |\n",
    "| Object (JS) / Dictionary (Python) | Key-value pairs |"
   ]
  },
  {
   "cell_type": "code",
   "execution_count": null,
   "id": "13da23ae",
   "metadata": {},
   "outputs": [],
   "source": [
    "# Python examples\n",
    "# Popcorn Hack 1\n",
    "subject = \"Math\" # String Variable\n",
    "birthday = \"October 4th\" # String Variable\n",
    "favoriteNumber = 23 # Integer Variable\n",
    "\n",
    "# Popcorn Hack 2\n",
    "cold = False\n",
    "busy = True \n",
    "print(cold) # Prints False\n",
    "print(busy) # Prints True\n",
    "\n",
    "# Popcorn Hack 3\n",
    "my_stuff = {\n",
    "    'name': \"Soumini\",\n",
    "    'age': 16,\n",
    "    'subjects': ['Math', 'Chemistry', 'CSP', 'English', 'HPOE'],\n",
    "}\n",
    "print(my_stuff)\n",
    "\n",
    "# Homework\n",
    "name = \"Nikith\" # String Variable\n",
    "age = 16 # Integer Variable\n",
    "favorite_number = 23.0 # Float Variable\n",
    "\n",
    "favorite_food = \"pizza\" # snake_case\n",
    "FavoriteHobby = \"sleeping\" # PascalCase\n",
    "favoriteColor = \"red\" # camelCase\n",
    "\n",
    "myList = [name, age, favorite_number] # A list\n",
    "\n",
    "me = {\n",
    "    'name': name, # key for name\n",
    "    'age' : age, # key for age\n",
    "    'favorite_number': favorite_number, # key for favorite number\n",
    "}"
   ]
  },
  {
   "cell_type": "code",
   "execution_count": null,
   "id": "a88e400b",
   "metadata": {
    "vscode": {
     "languageId": "javascript"
    }
   },
   "outputs": [],
   "source": [
    "//Popcorn Hack 1\n",
    "let fav_subject = \"math\";\n",
    "let hobby = \"sleeping\";\n",
    "let number = 7;\n",
    "\n",
    "// Popcorn Hack 2\n",
    "var event = {\n",
    "    date: \"December 31st\",\n",
    "    time: \"4 pm\",\n",
    "    thing: \"Lebron's Birthday Party\",\n",
    "    location: \"Los Angeles\",\n",
    "    participants: 100,\n",
    "};\n",
    "console.log(event)\n",
    "\n",
    "// Popcorn Hack 3\n",
    "let first = 73849;\n",
    "let second = 98874;\n",
    "let one = \"Hi how are you\";\n",
    "let two = \"doing today?\";\n",
    "console.log(first + second)\n",
    "console.log(one + two)\n",
    "\n",
    "// Homework\n",
    "let name = \"Nikith\"\n",
    "let age = 16\n",
    "let favorite_number = 23.0\n",
    "\n",
    "let favorite_food = \"pizza\"\n",
    "let FavoriteHobby = \"sleeping\"\n",
    "let favoriteColor = \"red\"\n",
    "\n",
    "let myList = ['Nikith', 16, 23]\n",
    "\n",
    "let me = {\n",
    "    'name': 'Nikith',\n",
    "    'age': age,\n",
    "    'favorite_number': favorite_number\n",
    "};"
   ]
  }
 ],
 "metadata": {
  "kernelspec": {
   "display_name": "venv",
   "language": "python",
   "name": "python3"
  },
  "language_info": {
   "codemirror_mode": {
    "name": "ipython",
    "version": 3
   },
   "file_extension": ".py",
   "mimetype": "text/x-python",
   "name": "python",
   "nbconvert_exporter": "python",
   "pygments_lexer": "ipython3",
   "version": "3.10.12"
  }
 },
 "nbformat": 4,
 "nbformat_minor": 5
}
