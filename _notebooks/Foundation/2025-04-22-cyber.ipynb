{
 "cells": [
  {
   "cell_type": "raw",
   "metadata": {
    "vscode": {
     "languageId": "raw"
    }
   },
   "source": [
    "---\n",
    "layout: post\n",
    "title: Cybersecurity Expert Panel\n",
    "description:  Reflection on the speaker panels\n",
    "type: issues \n",
    "comments: true\n",
    "---"
   ]
  },
  {
   "cell_type": "markdown",
   "metadata": {},
   "source": [
    "# Key Insights from the Cybersecurity Panel  \n",
    "\n",
    "### Introduction  \n",
    "I recently had the opportunity to attend a cybersecurity panel featuring three professionals in the field: David Tomasz, Victor Nzeata, and Tricia Mercer. Their diverse backgrounds and experiences provided valuable insights into the complexities and human aspects of cybersecurity, which reshaped my understanding of the field.\n",
    "\n",
    "### Insights from the Panelists\n",
    "\n",
    "#### David Tomasz – Ethical Hacker  \n",
    "David Tomasz, an ethical hacker, shared his journey into cybersecurity. Initially, he didn’t set out to work in this field, but through curiosity and persistence, he discovered a deep passion for it. Today, he uses his skills to track down cybercriminals and help protect individuals and organizations online.\n",
    "\n",
    "**Key Takeaways:**\n",
    "- A career in cybersecurity doesn’t always follow a straight path. It’s okay not to have everything figured out from the beginning.\n",
    "- Ethical hacking is an important tool for cybersecurity and can be used for good.\n",
    "- A solid foundation in coding and technical skills is essential for success in this field.\n",
    "- Networking and building connections are important in any career.\n",
    "- Passion for the work you do is crucial to long-term success.\n",
    "\n",
    "#### Victor Nzeata – Data Security Specialist  \n",
    "Victor Nzeata emphasized the importance of protecting sensitive data. He shared how even outdated or forgotten files can pose significant security risks. One of his contributions was a PowerShell script he created to help companies clean up old data, preventing potential security breaches.\n",
    "\n",
    "**Key Takeaways:**\n",
    "- Old or neglected data can be a major security vulnerability.\n",
    "- Small, well-executed solutions can have a significant impact on overall security.\n",
    "- Making improvements doesn’t always require large-scale projects; sometimes, small tools or scripts are enough.\n",
    "\n",
    "#### Tricia Mercer – Internal Threat Tracker  \n",
    "Tricia Mercer discussed her experience in identifying and preventing internal threats. She shared a story where her curiosity and attention to detail helped uncover a former employee who was stealing and selling company information. Her persistence ultimately led to stopping the breach.\n",
    "\n",
    "**Key Takeaways:**\n",
    "- Insider threats are a real and serious concern in cybersecurity.\n",
    "- Cybersecurity is not just about technical skills; it also involves critical thinking, questioning anomalies, and following up on suspicions.\n",
    "- The ability to notice small details and patterns can make a significant difference in identifying potential threats.\n",
    "\n",
    "### Reflection  \n",
    "Attending the panel broadened my perspective on cybersecurity. I had previously viewed it as a purely technical field, but I now realize it’s deeply tied to human behavior, ethical decision-making, and proactive problem-solving. I also learned that cybersecurity is accessible to anyone who is observant, curious, and willing to learn—regardless of their background.\n",
    "\n",
    "I found aspects of each speaker’s journey relatable:\n",
    "- Like David, I am still exploring my career path but remain open to unexpected opportunities.\n",
    "- Like Victor, I am interested in developing practical tools that contribute to improving security.\n",
    "- Like Tricia, I aim to be someone who notices things others might overlook and takes action when needed.\n",
    "\n",
    "### Moving Forward  \n",
    "The panel left me feeling motivated to dive deeper into the field of cybersecurity. I plan to:\n",
    "- Learn more about ethical hacking and how it contributes to security.\n",
    "- Develop small tools and scripts that address real-world security issues.\n",
    "- Pay closer attention to my own data security and continue learning about best practices.\n",
    "- Stay curious, ask questions, and follow my instincts when it comes to cybersecurity challenges.\n",
    "\n",
    "Cybersecurity is not only a career path but also a responsibility to protect individuals, organizations, and the broader online community. I’m excited to continue learning and to find ways to contribute to this essential field.\n",
    "\n",
    "![Image](https://github.com/user-attachments/assets/44a1717a-5a20-4b0a-a841-5454b5271a10)"
   ]
  }
 ],
 "metadata": {
  "kernelspec": {
   "display_name": "venv",
   "language": "python",
   "name": "python3"
  },
  "language_info": {
   "name": "python",
   "version": "3.10.12"
  }
 },
 "nbformat": 4,
 "nbformat_minor": 2
}
