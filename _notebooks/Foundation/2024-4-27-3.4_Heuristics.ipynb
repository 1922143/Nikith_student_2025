{
 "cells": [
  {
   "cell_type": "raw",
   "metadata": {
    "vscode": {
     "languageId": "raw"
    }
   },
   "source": [
    "---\n",
    "layout: post\n",
    "title: Graphs and Heuristics Homework\n",
    "description:  HW\n",
    "type: issues \n",
    "comments: true\n",
    "---"
   ]
  },
  {
   "cell_type": "markdown",
   "metadata": {},
   "source": [
    "Post Correspondence Problem (PCP):\n",
    "The Post Correspondence Problem is a well-known example of an undecidable problem in computer science. Given two lists of strings over some alphabet, the task is to determine whether there exists a sequence of indices such that the concatenation of the strings from the first list is identical to the concatenation of the strings from the second list, using the same sequence of indices. It has been proven that no general algorithm can solve the PCP for all possible inputs, thereby demonstrating its undecidability, similar to the Halting Problem."
   ]
  },
  {
   "cell_type": "code",
   "execution_count": null,
   "metadata": {},
   "outputs": [
    {
     "name": "stdout",
     "output_type": "stream",
     "text": [
      "Path: [0, 1, 3, 2, 0]\n",
      "Total Distance: 33\n"
     ]
    }
   ],
   "source": [
    "def nearest_neighbor_tsp(distances, start=0):\n",
    "    n = len(distances)\n",
    "    visited = [False] * n\n",
    "    path = [start]\n",
    "    total_distance = 0\n",
    "    current = start\n",
    "    visited[current] = True\n",
    "\n",
    "    for _ in range(n - 1):\n",
    "        nearest = None\n",
    "        nearest_dist = float('inf')\n",
    "        for i in range(n):\n",
    "            if not visited[i] and distances[current][i] < nearest_dist:\n",
    "                nearest = i\n",
    "                nearest_dist = distances[current][i]\n",
    "        path.append(nearest)\n",
    "        total_distance += nearest_dist\n",
    "        visited[nearest] = True\n",
    "        current = nearest\n",
    "\n",
    "    total_distance += distances[current][start]\n",
    "    path.append(start)\n",
    "\n",
    "    return path, total_distance\n",
    "\n",
    "distances = [\n",
    "    [0, 2, 9, 10],\n",
    "    [1, 0, 6, 4],\n",
    "    [15, 7, 0, 8],\n",
    "    [6, 3, 12, 0]\n",
    "]\n",
    "\n",
    "path, total_dist = nearest_neighbor_tsp(distances)\n",
    "print(\"Path:\", path)\n",
    "print(\"Total Distance:\", total_dist)"
   ]
  },
  {
   "cell_type": "markdown",
   "metadata": {},
   "source": [
    "Example: Route Planning for Delivery Companies (like UPS, FedEx)\n",
    "Delivery companies use heuristics like the nearest neighbor or \"left-turn avoidance\" because finding the absolutely shortest route (solving the full Traveling Salesman Problem exactly) would take way too much time and computational power, especially with hundreds or thousands of stops. Instead, heuristic approaches quickly find \"good enough\" solutions that save time and fuel, even if they aren't 100% perfect."
   ]
  }
 ],
 "metadata": {
  "kernelspec": {
   "display_name": "venv",
   "language": "python",
   "name": "python3"
  },
  "language_info": {
   "codemirror_mode": {
    "name": "ipython",
    "version": 3
   },
   "file_extension": ".py",
   "mimetype": "text/x-python",
   "name": "python",
   "nbconvert_exporter": "python",
   "pygments_lexer": "ipython3",
   "version": "3.10.12"
  }
 },
 "nbformat": 4,
 "nbformat_minor": 2
}
