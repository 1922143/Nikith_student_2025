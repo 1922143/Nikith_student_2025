{
 "cells": [
  {
   "cell_type": "raw",
   "metadata": {
    "vscode": {
     "languageId": "raw"
    }
   },
   "source": [
    "---\n",
    "layout: post\n",
    "title: Individual Reflection and Self Grade\n",
    "description: A reflection on my 2nd Trimester\n",
    "type: issues \n",
    "comments: true\n",
    "---"
   ]
  },
  {
   "cell_type": "markdown",
   "metadata": {},
   "source": [
    "# Strengths\n",
    "\n",
    "Some strengths that I use to help me in CSP this tri was:\n",
    "\n",
    "- Colloboration with teamates to let them know what I am working on and if I need help\n",
    "- Burn down list to keep a track of things that I need to do\n",
    "- Coming up with ideas such as my bucket list api to add to the website\n",
    "\n",
    "\n",
    "# Weaknesses\n",
    "\n",
    "However, I also had some weaknesses that I needed to work on\n",
    "\n",
    "- Talking during live reviews, need to be more precise, clear, and effecient\n",
    "- Not talking to you (Mr. Mort) enough, led to me not having all required components for check\n",
    "- Incorporating feedback from others\n",
    "\n",
    "\n",
    "# How I can improve\n",
    "\n",
    "To improve on my weaknesses, I think the best thing I could do is talk to you (Mr. Mort) more often. By doing this, I would be more prepared in the future and can improve what I am working on. My main goal for the next trimester is to communicate more often or more than I did this tri.\n",
    "\n",
    "\n",
    "# Next Steps in CS\n",
    "\n",
    "At first, I wanted to be an Aerospace Engineer and I thought that computer science would play a big role on that career. However, after being open minded and doing a little research, I came to the realization that I could not be more wrong. My perspective was also changed when an aerospace student come to the student panel about a month ago and explained how he had to use github and a mapping API.\n",
    "\n",
    "After conducting so research I learned that aerospace engineering and computer science are deeply connected, driving advancements in flight and space exploration. Modern aircraft and spacecraft use AI, simulations, and real-time data processing for efficiency and safety. High-performance computing enables precise aerodynamic testing and design improvements.\n",
    "\n",
    "I aspire to be an aerospace engineer, using coding and AI to develop smarter, safer, and more efficient aircraft and spacecraft for the future of exploration and travel."
   ]
  },
  {
   "cell_type": "markdown",
   "metadata": {},
   "source": [
    "# Self Grade\n",
    "\n",
    "Honest Self-Grade Assessment:\n",
    "\n",
    "| Topic                                               | % of Grade | Points  |\n",
    "|-----------------------------------------------------|------------|---------|\n",
    "| **5 Things Over 12 Weeks / Issues, Burndown, Presentation** | 90%        | 4.5/5  |\n",
    "| **Full Stack Project Demo**                         | 90%        | 1.8/2  |\n",
    "| **Project Feature Blog Write-up**                   | 80%       | 0.80/1   |\n",
    "| **MCQ**                                             | 100%       | 1/1   |\n",
    "| **10th point**                                      | 90%        | 0.9/1  |\n",
    "| **Total**                                           | 90%        | 9.0/10  |"
   ]
  }
 ],
 "metadata": {
  "kernelspec": {
   "display_name": "Python 3",
   "language": "python",
   "name": "python3"
  },
  "language_info": {
   "name": "python",
   "version": "3.10.12"
  }
 },
 "nbformat": 4,
 "nbformat_minor": 2
}
