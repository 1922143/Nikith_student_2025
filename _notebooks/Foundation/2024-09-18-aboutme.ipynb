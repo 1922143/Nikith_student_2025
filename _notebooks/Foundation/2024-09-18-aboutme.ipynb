{
 "cells": [
  {
   "cell_type": "raw",
   "metadata": {
    "vscode": {
     "languageId": "raw"
    }
   },
   "source": [
    "---\n",
    "layout: post\n",
    "title: About me\n",
    "description:  Stuff about me\n",
    "type: issues \n",
    "comments: true\n",
    "---"
   ]
  },
  {
   "cell_type": "raw",
   "metadata": {
    "vscode": {
     "languageId": "raw"
    }
   },
   "source": [
    "My name is Nikith Muralikrishnan and I am a sophmore at Del Norte High School.\n",
    "\n",
    "I was born on October 4, 2008 in Stamford, Connecticut.\n",
    "\n",
    "I then moved to San, Diego California when I was around 3-4 months old.\n",
    "\n",
    "Both of my parents are from Tamilnadu, India and immigrated to America in the year 2000.\n",
    "\n",
    "I live with my mom dad, and litle sister.\n",
    "\n",
    "My favorite subject in school is math and I want to become an enginer when I grow up.\n",
    "\n",
    "I am really interested in space and how the universe works.\n",
    "\n",
    "I am also a black belt in Karate.\n",
    "\n",
    "My favorite cuisine is Italian food.\n",
    "\n",
    "My favorite show is One Piece."
   ]
  }
 ],
 "metadata": {
  "kernelspec": {
   "display_name": "venv",
   "language": "python",
   "name": "python3"
  },
  "language_info": {
   "name": "python",
   "version": "3.10.12"
  }
 },
 "nbformat": 4,
 "nbformat_minor": 2
}
