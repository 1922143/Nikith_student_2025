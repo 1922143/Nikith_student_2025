{
 "cells": [
  {
   "cell_type": "raw",
   "id": "fcb64546",
   "metadata": {
    "vscode": {
     "languageId": "raw"
    }
   },
   "source": [
    "---\n",
    "layout: post\n",
    "title: Homework Certification\n",
    "description: A collection of the homework lessons I completed over the year.\n",
    "type: issues \n",
    "comments: true\n",
    "---"
   ]
  },
  {
   "cell_type": "markdown",
   "id": "7b1b1226",
   "metadata": {},
   "source": [
    "## Homework Submission Table\n",
    "\n",
    "| **Homework Title**                         | **Link** |\n",
    "|-------------------------------------------|----------|\n",
    "| 3.1                                       | [View](2024-10-06-3.1.ipynb) |\n",
    "| 3.2                                       | [View](2024-10-08-3.2.ipynb) |\n",
    "| Binary Search                             | [View](#) |\n",
    "| 3.4                                       | [View](2024-10-11-3.4.ipynb) |\n",
    "| Color                                     | [View](#) |\n",
    "| 3.6                                       | [View](#) |\n",
    "| Graphs Heuristics Undecidable Problem     | [View](#) |\n",
    "| Logic Gates                               | [View](#) |\n"
   ]
  }
 ],
 "metadata": {
  "kernelspec": {
   "display_name": "venv",
   "language": "python",
   "name": "python3"
  },
  "language_info": {
   "name": "python",
   "version": "3.10.12"
  }
 },
 "nbformat": 4,
 "nbformat_minor": 5
}
