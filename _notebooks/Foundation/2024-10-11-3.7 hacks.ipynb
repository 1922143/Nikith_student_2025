{
 "cells": [
  {
   "cell_type": "markdown",
   "metadata": {},
   "source": [
    "---\n",
    "layout: post\n",
    "title: 3.7 homework\n",
    "description: hacks\n",
    "type: issues \n",
    "comments: true\n",
    "---"
   ]
  },
  {
   "cell_type": "code",
   "execution_count": 1,
   "metadata": {},
   "outputs": [
    {
     "name": "stdout",
     "output_type": "stream",
     "text": [
      "Excellent\n",
      "Great job, keep up the good work!\n"
     ]
    }
   ],
   "source": [
    "# nested conditional\n",
    "score = 85  # student's score\n",
    "\n",
    "if score < 60:\n",
    "    print(\"Failing\")\n",
    "elif 60 <= score < 75:\n",
    "    print(\"Passing\")\n",
    "else:\n",
    "    print(\"Excellent\")\n",
    "\n",
    "    # Additional nested conditions for excellent performance\n",
    "    if score >= 90:\n",
    "        print(\"You are in the Honor Roll!\")\n",
    "    elif score >= 85:\n",
    "        print(\"Great job, keep up the good work!\")\n",
    "    else:\n",
    "        print(\"Good performance, but there's room for improvement.\")"
   ]
  }
 ],
 "metadata": {
  "kernelspec": {
   "display_name": "venv",
   "language": "python",
   "name": "python3"
  },
  "language_info": {
   "codemirror_mode": {
    "name": "ipython",
    "version": 3
   },
   "file_extension": ".py",
   "mimetype": "text/x-python",
   "name": "python",
   "nbconvert_exporter": "python",
   "pygments_lexer": "ipython3",
   "version": "3.10.12"
  }
 },
 "nbformat": 4,
 "nbformat_minor": 2
}
