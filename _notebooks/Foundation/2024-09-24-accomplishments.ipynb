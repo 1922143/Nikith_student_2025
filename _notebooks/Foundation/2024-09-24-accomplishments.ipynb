{
 "cells": [
  {
   "cell_type": "raw",
   "metadata": {
    "vscode": {
     "languageId": "raw"
    }
   },
   "source": [
    "---\n",
    "layout: post\n",
    "title: Accomplished vs Need to do\n",
    "description:  Notebook\n",
    "type: issues \n",
    "comments: true\n",
    "---"
   ]
  },
  {
   "cell_type": "markdown",
   "metadata": {
    "vscode": {
     "languageId": "raw"
    }
   },
   "source": [
    "Accomplished:\n",
    "- Got all tools necessary like github, vs code, and jupyter notebooks\n",
    "- Created a new repository on github to start creating my website\n",
    "- Made some new notebooks\n",
    "- Addied images, a slide show, and a submenu\n",
    "\n",
    "Need to do:\n",
    "- Some hacks like create a calculator, cookie clicker game, snake, and music API\n",
    "- Add a new blog that is customized to me\n",
    "- Fix my notebooks and submenu\n",
    "- Change the theme and add some music"
   ]
  }
 ],
 "metadata": {
  "kernelspec": {
   "display_name": "venv",
   "language": "python",
   "name": "python3"
  },
  "language_info": {
   "name": "python",
   "version": "3.10.12"
  }
 },
 "nbformat": 4,
 "nbformat_minor": 2
}
