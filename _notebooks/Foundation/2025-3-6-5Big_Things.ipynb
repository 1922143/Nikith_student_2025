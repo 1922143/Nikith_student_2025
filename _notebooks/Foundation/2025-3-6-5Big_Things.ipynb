{
 "cells": [
  {
   "cell_type": "raw",
   "metadata": {
    "vscode": {
     "languageId": "raw"
    }
   },
   "source": [
    "---\n",
    "layout: post\n",
    "title: 5 Big Things\n",
    "description: 5 things I did over the 12 weeks\n",
    "type: issues \n",
    "comments: true\n",
    "---"
   ]
  },
  {
   "cell_type": "markdown",
   "metadata": {},
   "source": [
    "\n",
    "\n",
    "# 1. Static Bucket List API Feature\n",
    "![Image](https://github.com/user-attachments/assets/d07048c6-fce4-4e4a-9a65-2445aa772383)"
   ]
  },
  {
   "cell_type": "markdown",
   "metadata": {},
   "source": [
    "\n",
    "\n",
    "# 2. Dynamic API feature for Bucket List with CRUD operations\n",
    "![Image](https://github.com/user-attachments/assets/cfcb1469-19cd-44eb-b5d5-50a9ea63a194)"
   ]
  },
  {
   "cell_type": "markdown",
   "metadata": {},
   "source": [
    "\n",
    "\n",
    "# 3. Burndown list to keep track of things to do\n",
    "\n",
    "![Image](https://github.com/user-attachments/assets/21c2125a-7ccc-4b41-8cdb-e5b81460fd4d)"
   ]
  },
  {
   "cell_type": "markdown",
   "metadata": {},
   "source": [
    "\n",
    "\n",
    "# 4. Helped teamate Neil\n",
    "\n",
    "- Partner Neil was gone for a long time due to being sick so  I tried to help him with his API a little\n",
    "- Knowledge on topic was a little limited but I helped him with the backend\n",
    "- Helped him define the CRUD operations and create API but after I couldn't figure out the fetchfunctions so he went to another teamate for that\n",
    "- Interesting experience as I am somebody who is still trying to learn and understand the topic"
   ]
  },
  {
   "cell_type": "markdown",
   "metadata": {},
   "source": [
    "\n",
    "\n",
    "# 5. Created Student Panel Blog\n",
    "\n",
    "- I went to the student panel on college and the importance of computer science a few months ago and wrote a blog on it\n",
    "- Gave mea lot of insight and the importance of CS in the future\n",
    "\n"
   ]
  }
 ],
 "metadata": {
  "kernelspec": {
   "display_name": "Python 3",
   "language": "python",
   "name": "python3"
  },
  "language_info": {
   "name": "python",
   "version": "3.10.12"
  }
 },
 "nbformat": 4,
 "nbformat_minor": 2
}
