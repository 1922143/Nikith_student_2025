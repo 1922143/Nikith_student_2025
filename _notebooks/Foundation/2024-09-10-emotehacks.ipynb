{
 "cells": [
  {
   "cell_type": "raw",
   "metadata": {
    "vscode": {
     "languageId": "raw"
    }
   },
   "source": [
    "---\n",
    "layout: post\n",
    "title: Tools and Setup Emoji Hack\n",
    "description:  Tools and Software Development for Sprint 1\n",
    "type: issues \n",
    "comments: true\n",
    "---"
   ]
  },
  {
   "cell_type": "markdown",
   "metadata": {},
   "source": [
    "# Tools and Setup Emoji Hack"
   ]
  },
  {
   "cell_type": "code",
   "execution_count": 1,
   "metadata": {
    "vscode": {
     "languageId": "python"
    }
   },
   "outputs": [
    {
     "name": "stdout",
     "output_type": "stream",
     "text": [
      "👍 Python is awesome! 😀\n"
     ]
    }
   ],
   "source": [
    "from emoji import emojize \n",
    "print(emojize(\":thumbs_up: Python is awesome! :grinning_face:\"))"
   ]
  }
 ],
 "metadata": {
  "kernelspec": {
   "display_name": "Python 3 (ipykernel)",
   "language": "python",
   "name": "python3"
  }
 },
 "nbformat": 4,
 "nbformat_minor": 2
}
