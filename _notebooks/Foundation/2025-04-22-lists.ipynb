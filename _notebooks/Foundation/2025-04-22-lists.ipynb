{
 "cells": [
  {
   "cell_type": "raw",
   "metadata": {
    "vscode": {
     "languageId": "raw"
    }
   },
   "source": [
    "---\n",
    "layout: post\n",
    "title: Lists and Filtering\n",
    "description:  HW\n",
    "type: issues \n",
    "comments: true\n",
    "---"
   ]
  },
  {
   "cell_type": "code",
   "execution_count": 5,
   "metadata": {},
   "outputs": [
    {
     "name": "stdout",
     "output_type": "stream",
     "text": [
      "[{'name': 'Bob', 'score': 85}, {'name': 'David', 'score': 88}]\n"
     ]
    }
   ],
   "source": [
    "def find_students_in_range(student_data, min_score, max_score):\n",
    "    return [student for student in student_data if min_score <= student['score'] <= max_score]\n",
    "\n",
    "# Example student list (list of dictionaries)\n",
    "student_data = [\n",
    "    {'name': 'Alice', 'score': 78},\n",
    "    {'name': 'Bob', 'score': 85},\n",
    "    {'name': 'Charlie', 'score': 92},\n",
    "    {'name': 'David', 'score': 88},\n",
    "    {'name': 'Eve', 'score': 76}\n",
    "]\n",
    "\n",
    "# Test\n",
    "print(find_students_in_range(student_data, 80, 90))"
   ]
  },
  {
   "cell_type": "code",
   "execution_count": 6,
   "metadata": {},
   "outputs": [
    {
     "name": "stdout",
     "output_type": "stream",
     "text": [
      "[{'name': 'Alice', 'score': 78, 'Letter': 'C'}, {'name': 'Bob', 'score': 85, 'Letter': 'B'}, {'name': 'Charlie', 'score': 92, 'Letter': 'A'}, {'name': 'David', 'score': 60, 'Letter': 'D'}, {'name': 'Eve', 'score': 55, 'Letter': 'F'}]\n"
     ]
    }
   ],
   "source": [
    "def add_letter_grades(student_data):\n",
    "    for student in student_data:\n",
    "        score = student['score']\n",
    "        if score >= 90:\n",
    "            student['Letter'] = 'A'\n",
    "        elif score >= 80:\n",
    "            student['Letter'] = 'B'\n",
    "        elif score >= 70:\n",
    "            student['Letter'] = 'C'\n",
    "        elif score >= 60:\n",
    "            student['Letter'] = 'D'\n",
    "        else:\n",
    "            student['Letter'] = 'F'\n",
    "    return student_data\n",
    "\n",
    "student_data = [\n",
    "    {'name': 'Alice', 'score': 78},\n",
    "    {'name': 'Bob', 'score': 85},\n",
    "    {'name': 'Charlie', 'score': 92},\n",
    "    {'name': 'David', 'score': 60},\n",
    "    {'name': 'Eve', 'score': 55}\n",
    "]\n",
    "\n",
    "\n",
    "print(add_letter_grades(student_data))"
   ]
  },
  {
   "cell_type": "code",
   "execution_count": 7,
   "metadata": {},
   "outputs": [
    {
     "name": "stdout",
     "output_type": "stream",
     "text": [
      "2\n"
     ]
    }
   ],
   "source": [
    "from collections import Counter\n",
    "\n",
    "def find_mode(series):\n",
    "    counts = Counter(series)\n",
    "    return counts.most_common(1)[0][0] \n",
    "\n",
    "print(find_mode([1, 2, 2, 3, 4, 2, 5]))"
   ]
  },
  {
   "cell_type": "code",
   "execution_count": null,
   "metadata": {},
   "outputs": [],
   "source": [
    "import pandas as pd\n",
    "import sqlite3\n",
    "import matplotlib.pyplot as plt\n",
    "import seaborn as sns\n",
    "from collections import Counter\n",
    "\n",
    "datas = pd.read_csv('data_title.csv')\n",
    "\n",
    "avg_temp = datas.groupby('incident_id')['temperature'].mean()\n",
    "highest_avg_temp_incident = avg_temp.idxmax()\n",
    "lowest_avg_temp_incident = avg_temp.idxmin()\n",
    "print(\"Highest avg temp incident ID:\", highest_avg_temp_incident)\n",
    "print(\"Lowest avg temp incident ID:\", lowest_avg_temp_incident)\n",
    "\n",
    "temp_diff = datas.groupby('incident_id')['temperature'].agg(lambda x: x.max() - x.min())\n",
    "print(\"Temperature difference per incident (sample):\")\n",
    "print(temp_diff.head())\n",
    "\n",
    "overall_avg_temp = datas['temperature'].mean()\n",
    "above_avg_temp = datas[datas['temperature'] > overall_avg_temp]\n",
    "print(f\"Incidents above overall average temperature ({overall_avg_temp:.2f}°F): {len(above_avg_temp)}\")\n",
    "\n",
    "grouped = datas.groupby(['vegetation_type', 'weather_condition'])[['temperature', 'wind_speed']].mean().reset_index()\n",
    "print(\"Grouped by vegetation and weather (sample):\")\n",
    "print(grouped.head())\n",
    "\n",
    "datas['vegetation_code'] = datas['vegetation_type'].astype('category').cat.codes\n",
    "correlation = datas[['vegetation_code', 'fire_intensity']].corr()\n",
    "print(\"Correlation between vegetation type and fire intensity:\")\n",
    "print(correlation)\n",
    "\n",
    "sns.scatterplot(data=datas, x='vegetation_code', y='fire_intensity')\n",
    "plt.title('Vegetation Type vs Fire Intensity')\n",
    "plt.xlabel('Vegetation Type (coded)')\n",
    "plt.ylabel('Fire Intensity')\n",
    "plt.show()\n",
    "\n",
    "weather_avg_intensity = datas.groupby('weather_condition')['fire_intensity'].mean()\n",
    "highest_intensity_condition = weather_avg_intensity.idxmax()\n",
    "print(\"Weather condition with highest fire intensity:\", highest_intensity_condition)\n",
    "\n",
    "over_100F = datas[datas['temperature'] > 100]\n",
    "percent_over_100F = (len(over_100F) / len(datas)) * 100\n",
    "print(f\"Percentage of incidents over 100°F: {percent_over_100F:.2f}%\")\n",
    "\n",
    "conn = sqlite3.connect('fire_incidents.db')\n",
    "datas.to_sql('fire_incidents', conn, if_exists='replace', index=False)\n",
    "\n",
    "query1 = pd.read_sql_query(\"\"\"\n",
    "SELECT vegetation_type, AVG(temperature) AS avg_temp, AVG(wind_speed) AS avg_wind\n",
    "FROM fire_incidents\n",
    "GROUP BY vegetation_type\n",
    "\"\"\", conn)\n",
    "print(\"SQL - Avg temp and wind per vegetation type:\")\n",
    "print(query1)\n",
    "\n",
    "query2 = pd.read_sql_query(\"\"\"\n",
    "SELECT * FROM fire_incidents\n",
    "WHERE temperature > 120 AND wind_speed > 15\n",
    "\"\"\", conn)\n",
    "print(\"SQL - Incidents with temperature >120°F and wind >15 mph:\")\n",
    "print(query2.head())\n",
    "\n",
    "query3 = pd.read_sql_query(\"\"\"\n",
    "SELECT weather_condition, AVG(fire_intensity) AS avg_intensity\n",
    "FROM fire_incidents\n",
    "GROUP BY weather_condition\n",
    "\"\"\", conn)\n",
    "print(\"SQL - Avg fire intensity per weather condition:\")\n",
    "print(query3)\n",
    "\n",
    "print(\"\\n📌 Pandas vs SQL Comparison:\")\n",
    "print(\"- Pandas is faster for in-memory operations, better for exploratory data analysis.\")\n",
    "print(\"- SQL is better for handling large data, integrates well with databases.\")\n",
    "print(\"- Pandas is more flexible for complex calculations and visualizations.\")"
   ]
  }
 ],
 "metadata": {
  "kernelspec": {
   "display_name": "venv",
   "language": "python",
   "name": "python3"
  },
  "language_info": {
   "codemirror_mode": {
    "name": "ipython",
    "version": 3
   },
   "file_extension": ".py",
   "mimetype": "text/x-python",
   "name": "python",
   "nbconvert_exporter": "python",
   "pygments_lexer": "ipython3",
   "version": "3.10.12"
  }
 },
 "nbformat": 4,
 "nbformat_minor": 2
}
