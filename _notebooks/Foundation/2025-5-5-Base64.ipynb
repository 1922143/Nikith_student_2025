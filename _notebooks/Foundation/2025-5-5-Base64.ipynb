{
 "cells": [
  {
   "cell_type": "markdown",
   "metadata": {
    "vscode": {
     "languageId": "raw"
    }
   },
   "source": [
    "# Excercise 1\n",
    "\n",
    "#1E90FF:\n",
    "\n",
    "- rgb(30, 144, 255)\n",
    "\n",
    "- rgba(30, 144, 255, 1)\n",
    "\n",
    "\n",
    "#32CD32\n",
    "\n",
    "- rgb(50, 205, 50)\n",
    "\n",
    "- rgba(50, 205, 50, 1)\n",
    "\n",
    "\n",
    " #FFD700:\n",
    "\n",
    "- rgb(255, 215, 0)\n",
    "\n",
    "- rgba(255, 215, 0, 1)\n",
    "\n",
    "\n",
    "50% Transparent Teal: rgba(0, 128, 128, 0.5)\n",
    "\n",
    "\n",
    "\n",
    "## Excercise 2\n",
    "\n",
    "### 2×2 Icon Design and Storage Calculation\n",
    "\n",
    "Selected Colors (Hex Codes):\n",
    "- Color 1: `#FF0000` (red)\n",
    "- Color 2: `#0000FF` (blue)\n",
    "- Color 3: `#00FF00` (green)\n",
    "- Color 4: `#FFFF00` (yellow)\n",
    "\n",
    "\n",
    "Storage Calculation:\n",
    "- Bits per pixel = 24 bits  \n",
    "- Total pixels = 2 × 2 = 4 pixels  \n",
    "- Total storage = 24 bits/pixel × 4 pixels = 96 bits  \n",
    "\n",
    "\n",
    "\n",
    "## Excercise 3\n",
    "\n",
    "Base 64 Encode for the string \"Cat\":\n",
    "- Q2F0\n",
    "\n",
    "\n",
    "1×1 red PNG in Base64:"
   ]
  },
  {
   "cell_type": "raw",
   "metadata": {
    "vscode": {
     "languageId": "raw"
    }
   },
   "source": [
    "<img src=\"data:image/png;base64,iVBORw0KGgoAAAANSUhEUgAAAAEAAAABCAQAAAC1HAwCAAAAC0lEQVR42mP8z/CfAQADgwF/qOnw2wAAAABJRU5ErkJggg==\" alt=\"Red Pixel\" />"
   ]
  }
 ],
 "metadata": {
  "kernelspec": {
   "display_name": "venv",
   "language": "python",
   "name": "python3"
  },
  "language_info": {
   "codemirror_mode": {
    "name": "ipython",
    "version": 3
   },
   "file_extension": ".py",
   "mimetype": "text/x-python",
   "name": "python",
   "nbconvert_exporter": "python",
   "pygments_lexer": "ipython3",
   "version": "3.10.12"
  }
 },
 "nbformat": 4,
 "nbformat_minor": 2
}
